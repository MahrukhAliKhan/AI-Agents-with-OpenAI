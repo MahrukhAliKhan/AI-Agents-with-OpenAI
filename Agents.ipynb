{
 "cells": [
  {
   "cell_type": "markdown",
   "metadata": {},
   "source": [
    "## Step # 01: Install necessary libraries\n",
    "- Crewai[tools]: It is a framework for autonomous AI agents designed for Reasoning and Acting.\n",
    "The [tools] part installs additional built-in tools that can be used by AI agents (e.g., web search, calculations, file handling).\n",
    "- duckduckgo-search: A Python library for performing DuckDuckGo searches programmatically. Search for web pages, news, images, and videos.\n",
    "\n"
   ]
  },
  {
   "cell_type": "code",
   "execution_count": 1,
   "metadata": {
    "colab": {
     "base_uri": "https://localhost:8080/"
    },
    "id": "uKW5vG1RxEOK",
    "outputId": "23813ade-d55f-42a5-ab64-77b4be25c2d3"
   },
   "outputs": [
    {
     "name": "stdout",
     "output_type": "stream",
     "text": [
      "Requirement already satisfied: crewai==0.28.8 in ./venv/lib/python3.10/site-packages (from crewai[tools]==0.28.8) (0.28.8)\n",
      "Requirement already satisfied: appdirs<2.0.0,>=1.4.4 in ./venv/lib/python3.10/site-packages (from crewai==0.28.8->crewai[tools]==0.28.8) (1.4.4)\n",
      "Requirement already satisfied: click<9.0.0,>=8.1.7 in ./venv/lib/python3.10/site-packages (from crewai==0.28.8->crewai[tools]==0.28.8) (8.1.7)\n",
      "Requirement already satisfied: embedchain<0.2.0,>=0.1.98 in ./venv/lib/python3.10/site-packages (from crewai==0.28.8->crewai[tools]==0.28.8) (0.1.113)\n",
      "Requirement already satisfied: instructor<0.6.0,>=0.5.2 in ./venv/lib/python3.10/site-packages (from crewai==0.28.8->crewai[tools]==0.28.8) (0.5.2)\n",
      "Requirement already satisfied: langchain<0.2.0,>=0.1.10 in ./venv/lib/python3.10/site-packages (from crewai==0.28.8->crewai[tools]==0.28.8) (0.1.20)\n",
      "Requirement already satisfied: openai<2.0.0,>=1.13.3 in ./venv/lib/python3.10/site-packages (from crewai==0.28.8->crewai[tools]==0.28.8) (1.68.2)\n",
      "Requirement already satisfied: opentelemetry-api<2.0.0,>=1.22.0 in ./venv/lib/python3.10/site-packages (from crewai==0.28.8->crewai[tools]==0.28.8) (1.31.1)\n",
      "Requirement already satisfied: opentelemetry-exporter-otlp-proto-http<2.0.0,>=1.22.0 in ./venv/lib/python3.10/site-packages (from crewai==0.28.8->crewai[tools]==0.28.8) (1.31.1)\n",
      "Requirement already satisfied: opentelemetry-sdk<2.0.0,>=1.22.0 in ./venv/lib/python3.10/site-packages (from crewai==0.28.8->crewai[tools]==0.28.8) (1.31.1)\n",
      "Requirement already satisfied: pydantic<3.0.0,>=2.4.2 in ./venv/lib/python3.10/site-packages (from crewai==0.28.8->crewai[tools]==0.28.8) (2.10.6)\n",
      "Requirement already satisfied: python-dotenv==1.0.0 in ./venv/lib/python3.10/site-packages (from crewai==0.28.8->crewai[tools]==0.28.8) (1.0.0)\n",
      "Requirement already satisfied: regex<2024.0.0,>=2023.12.25 in ./venv/lib/python3.10/site-packages (from crewai==0.28.8->crewai[tools]==0.28.8) (2023.12.25)\n",
      "Requirement already satisfied: crewai-tools<0.2.0,>=0.1.7 in ./venv/lib/python3.10/site-packages (from crewai[tools]==0.28.8) (0.1.7)\n",
      "Requirement already satisfied: beautifulsoup4<5.0.0,>=4.12.3 in ./venv/lib/python3.10/site-packages (from crewai-tools<0.2.0,>=0.1.7->crewai[tools]==0.28.8) (4.13.3)\n",
      "Requirement already satisfied: chromadb<0.5.0,>=0.4.22 in ./venv/lib/python3.10/site-packages (from crewai-tools<0.2.0,>=0.1.7->crewai[tools]==0.28.8) (0.4.24)\n",
      "Requirement already satisfied: lancedb<0.6.0,>=0.5.4 in ./venv/lib/python3.10/site-packages (from crewai-tools<0.2.0,>=0.1.7->crewai[tools]==0.28.8) (0.5.7)\n",
      "Requirement already satisfied: pyright<2.0.0,>=1.1.350 in ./venv/lib/python3.10/site-packages (from crewai-tools<0.2.0,>=0.1.7->crewai[tools]==0.28.8) (1.1.398)\n",
      "Requirement already satisfied: pytest<9.0.0,>=8.0.0 in ./venv/lib/python3.10/site-packages (from crewai-tools<0.2.0,>=0.1.7->crewai[tools]==0.28.8) (8.3.5)\n",
      "Requirement already satisfied: pytube<16.0.0,>=15.0.0 in ./venv/lib/python3.10/site-packages (from crewai-tools<0.2.0,>=0.1.7->crewai[tools]==0.28.8) (15.0.0)\n",
      "Requirement already satisfied: requests<3.0.0,>=2.31.0 in ./venv/lib/python3.10/site-packages (from crewai-tools<0.2.0,>=0.1.7->crewai[tools]==0.28.8) (2.32.3)\n",
      "Requirement already satisfied: selenium<5.0.0,>=4.18.1 in ./venv/lib/python3.10/site-packages (from crewai-tools<0.2.0,>=0.1.7->crewai[tools]==0.28.8) (4.30.0)\n",
      "Requirement already satisfied: alembic<2.0.0,>=1.13.1 in ./venv/lib/python3.10/site-packages (from embedchain<0.2.0,>=0.1.98->crewai==0.28.8->crewai[tools]==0.28.8) (1.15.1)\n",
      "Requirement already satisfied: clarifai<11.0.0,>=10.0.1 in ./venv/lib/python3.10/site-packages (from embedchain<0.2.0,>=0.1.98->crewai==0.28.8->crewai[tools]==0.28.8) (10.11.1)\n",
      "Requirement already satisfied: google-cloud-aiplatform<2.0.0,>=1.26.1 in ./venv/lib/python3.10/site-packages (from embedchain<0.2.0,>=0.1.98->crewai==0.28.8->crewai[tools]==0.28.8) (1.86.0)\n",
      "Requirement already satisfied: gptcache<0.2.0,>=0.1.43 in ./venv/lib/python3.10/site-packages (from embedchain<0.2.0,>=0.1.98->crewai==0.28.8->crewai[tools]==0.28.8) (0.1.44)\n",
      "Requirement already satisfied: langchain-cohere<0.2.0,>=0.1.4 in ./venv/lib/python3.10/site-packages (from embedchain<0.2.0,>=0.1.98->crewai==0.28.8->crewai[tools]==0.28.8) (0.1.5)\n",
      "Requirement already satisfied: langchain-openai<0.2.0,>=0.1.7 in ./venv/lib/python3.10/site-packages (from embedchain<0.2.0,>=0.1.98->crewai==0.28.8->crewai[tools]==0.28.8) (0.1.7)\n",
      "Requirement already satisfied: posthog<4.0.0,>=3.0.2 in ./venv/lib/python3.10/site-packages (from embedchain<0.2.0,>=0.1.98->crewai==0.28.8->crewai[tools]==0.28.8) (3.23.0)\n",
      "Requirement already satisfied: pypdf<5.0.0,>=4.0.1 in ./venv/lib/python3.10/site-packages (from embedchain<0.2.0,>=0.1.98->crewai==0.28.8->crewai[tools]==0.28.8) (4.3.1)\n",
      "Requirement already satisfied: pysbd<0.4.0,>=0.3.4 in ./venv/lib/python3.10/site-packages (from embedchain<0.2.0,>=0.1.98->crewai==0.28.8->crewai[tools]==0.28.8) (0.3.4)\n",
      "Requirement already satisfied: rich<14.0.0,>=13.7.0 in ./venv/lib/python3.10/site-packages (from embedchain<0.2.0,>=0.1.98->crewai==0.28.8->crewai[tools]==0.28.8) (13.9.4)\n",
      "Requirement already satisfied: schema<0.8.0,>=0.7.5 in ./venv/lib/python3.10/site-packages (from embedchain<0.2.0,>=0.1.98->crewai==0.28.8->crewai[tools]==0.28.8) (0.7.5)\n",
      "Requirement already satisfied: sqlalchemy<3.0.0,>=2.0.27 in ./venv/lib/python3.10/site-packages (from embedchain<0.2.0,>=0.1.98->crewai==0.28.8->crewai[tools]==0.28.8) (2.0.39)\n",
      "Requirement already satisfied: tiktoken<0.8.0,>=0.7.0 in ./venv/lib/python3.10/site-packages (from embedchain<0.2.0,>=0.1.98->crewai==0.28.8->crewai[tools]==0.28.8) (0.7.0)\n",
      "Requirement already satisfied: aiohttp<4.0.0,>=3.9.1 in ./venv/lib/python3.10/site-packages (from instructor<0.6.0,>=0.5.2->crewai==0.28.8->crewai[tools]==0.28.8) (3.11.14)\n",
      "Requirement already satisfied: docstring-parser<0.16,>=0.15 in ./venv/lib/python3.10/site-packages (from instructor<0.6.0,>=0.5.2->crewai==0.28.8->crewai[tools]==0.28.8) (0.15)\n",
      "Requirement already satisfied: tenacity<9.0.0,>=8.2.3 in ./venv/lib/python3.10/site-packages (from instructor<0.6.0,>=0.5.2->crewai==0.28.8->crewai[tools]==0.28.8) (8.5.0)\n",
      "Requirement already satisfied: typer<0.10.0,>=0.9.0 in ./venv/lib/python3.10/site-packages (from instructor<0.6.0,>=0.5.2->crewai==0.28.8->crewai[tools]==0.28.8) (0.9.4)\n",
      "Requirement already satisfied: PyYAML>=5.3 in ./venv/lib/python3.10/site-packages (from langchain<0.2.0,>=0.1.10->crewai==0.28.8->crewai[tools]==0.28.8) (6.0.2)\n",
      "Requirement already satisfied: async-timeout<5.0.0,>=4.0.0 in ./venv/lib/python3.10/site-packages (from langchain<0.2.0,>=0.1.10->crewai==0.28.8->crewai[tools]==0.28.8) (4.0.3)\n",
      "Requirement already satisfied: dataclasses-json<0.7,>=0.5.7 in ./venv/lib/python3.10/site-packages (from langchain<0.2.0,>=0.1.10->crewai==0.28.8->crewai[tools]==0.28.8) (0.6.7)\n",
      "Requirement already satisfied: langchain-community<0.1,>=0.0.38 in ./venv/lib/python3.10/site-packages (from langchain<0.2.0,>=0.1.10->crewai==0.28.8->crewai[tools]==0.28.8) (0.0.38)\n",
      "Requirement already satisfied: langchain-core<0.2.0,>=0.1.52 in ./venv/lib/python3.10/site-packages (from langchain<0.2.0,>=0.1.10->crewai==0.28.8->crewai[tools]==0.28.8) (0.1.53)\n",
      "Requirement already satisfied: langchain-text-splitters<0.1,>=0.0.1 in ./venv/lib/python3.10/site-packages (from langchain<0.2.0,>=0.1.10->crewai==0.28.8->crewai[tools]==0.28.8) (0.0.2)\n",
      "Requirement already satisfied: langsmith<0.2.0,>=0.1.17 in ./venv/lib/python3.10/site-packages (from langchain<0.2.0,>=0.1.10->crewai==0.28.8->crewai[tools]==0.28.8) (0.1.147)\n",
      "Requirement already satisfied: numpy<2,>=1 in ./venv/lib/python3.10/site-packages (from langchain<0.2.0,>=0.1.10->crewai==0.28.8->crewai[tools]==0.28.8) (1.26.4)\n",
      "Requirement already satisfied: anyio<5,>=3.5.0 in ./venv/lib/python3.10/site-packages (from openai<2.0.0,>=1.13.3->crewai==0.28.8->crewai[tools]==0.28.8) (4.9.0)\n",
      "Requirement already satisfied: distro<2,>=1.7.0 in ./venv/lib/python3.10/site-packages (from openai<2.0.0,>=1.13.3->crewai==0.28.8->crewai[tools]==0.28.8) (1.9.0)\n",
      "Requirement already satisfied: httpx<1,>=0.23.0 in ./venv/lib/python3.10/site-packages (from openai<2.0.0,>=1.13.3->crewai==0.28.8->crewai[tools]==0.28.8) (0.28.1)\n",
      "Requirement already satisfied: jiter<1,>=0.4.0 in ./venv/lib/python3.10/site-packages (from openai<2.0.0,>=1.13.3->crewai==0.28.8->crewai[tools]==0.28.8) (0.9.0)\n",
      "Requirement already satisfied: sniffio in ./venv/lib/python3.10/site-packages (from openai<2.0.0,>=1.13.3->crewai==0.28.8->crewai[tools]==0.28.8) (1.3.1)\n",
      "Requirement already satisfied: tqdm>4 in ./venv/lib/python3.10/site-packages (from openai<2.0.0,>=1.13.3->crewai==0.28.8->crewai[tools]==0.28.8) (4.67.1)\n",
      "Requirement already satisfied: typing-extensions<5,>=4.11 in ./venv/lib/python3.10/site-packages (from openai<2.0.0,>=1.13.3->crewai==0.28.8->crewai[tools]==0.28.8) (4.13.0)\n",
      "Requirement already satisfied: deprecated>=1.2.6 in ./venv/lib/python3.10/site-packages (from opentelemetry-api<2.0.0,>=1.22.0->crewai==0.28.8->crewai[tools]==0.28.8) (1.2.18)\n",
      "Requirement already satisfied: importlib-metadata<8.7.0,>=6.0 in ./venv/lib/python3.10/site-packages (from opentelemetry-api<2.0.0,>=1.22.0->crewai==0.28.8->crewai[tools]==0.28.8) (8.6.1)\n",
      "Requirement already satisfied: googleapis-common-protos~=1.52 in ./venv/lib/python3.10/site-packages (from opentelemetry-exporter-otlp-proto-http<2.0.0,>=1.22.0->crewai==0.28.8->crewai[tools]==0.28.8) (1.69.2)\n",
      "Requirement already satisfied: opentelemetry-exporter-otlp-proto-common==1.31.1 in ./venv/lib/python3.10/site-packages (from opentelemetry-exporter-otlp-proto-http<2.0.0,>=1.22.0->crewai==0.28.8->crewai[tools]==0.28.8) (1.31.1)\n",
      "Requirement already satisfied: opentelemetry-proto==1.31.1 in ./venv/lib/python3.10/site-packages (from opentelemetry-exporter-otlp-proto-http<2.0.0,>=1.22.0->crewai==0.28.8->crewai[tools]==0.28.8) (1.31.1)\n",
      "Requirement already satisfied: protobuf<6.0,>=5.0 in ./venv/lib/python3.10/site-packages (from opentelemetry-proto==1.31.1->opentelemetry-exporter-otlp-proto-http<2.0.0,>=1.22.0->crewai==0.28.8->crewai[tools]==0.28.8) (5.29.4)\n",
      "Requirement already satisfied: opentelemetry-semantic-conventions==0.52b1 in ./venv/lib/python3.10/site-packages (from opentelemetry-sdk<2.0.0,>=1.22.0->crewai==0.28.8->crewai[tools]==0.28.8) (0.52b1)\n",
      "Requirement already satisfied: annotated-types>=0.6.0 in ./venv/lib/python3.10/site-packages (from pydantic<3.0.0,>=2.4.2->crewai==0.28.8->crewai[tools]==0.28.8) (0.7.0)\n",
      "Requirement already satisfied: pydantic-core==2.27.2 in ./venv/lib/python3.10/site-packages (from pydantic<3.0.0,>=2.4.2->crewai==0.28.8->crewai[tools]==0.28.8) (2.27.2)\n",
      "Requirement already satisfied: aiohappyeyeballs>=2.3.0 in ./venv/lib/python3.10/site-packages (from aiohttp<4.0.0,>=3.9.1->instructor<0.6.0,>=0.5.2->crewai==0.28.8->crewai[tools]==0.28.8) (2.6.1)\n",
      "Requirement already satisfied: aiosignal>=1.1.2 in ./venv/lib/python3.10/site-packages (from aiohttp<4.0.0,>=3.9.1->instructor<0.6.0,>=0.5.2->crewai==0.28.8->crewai[tools]==0.28.8) (1.3.2)\n",
      "Requirement already satisfied: attrs>=17.3.0 in ./venv/lib/python3.10/site-packages (from aiohttp<4.0.0,>=3.9.1->instructor<0.6.0,>=0.5.2->crewai==0.28.8->crewai[tools]==0.28.8) (25.3.0)\n",
      "Requirement already satisfied: frozenlist>=1.1.1 in ./venv/lib/python3.10/site-packages (from aiohttp<4.0.0,>=3.9.1->instructor<0.6.0,>=0.5.2->crewai==0.28.8->crewai[tools]==0.28.8) (1.5.0)\n",
      "Requirement already satisfied: multidict<7.0,>=4.5 in ./venv/lib/python3.10/site-packages (from aiohttp<4.0.0,>=3.9.1->instructor<0.6.0,>=0.5.2->crewai==0.28.8->crewai[tools]==0.28.8) (6.2.0)\n",
      "Requirement already satisfied: propcache>=0.2.0 in ./venv/lib/python3.10/site-packages (from aiohttp<4.0.0,>=3.9.1->instructor<0.6.0,>=0.5.2->crewai==0.28.8->crewai[tools]==0.28.8) (0.3.1)\n",
      "Requirement already satisfied: yarl<2.0,>=1.17.0 in ./venv/lib/python3.10/site-packages (from aiohttp<4.0.0,>=3.9.1->instructor<0.6.0,>=0.5.2->crewai==0.28.8->crewai[tools]==0.28.8) (1.18.3)\n",
      "Requirement already satisfied: Mako in ./venv/lib/python3.10/site-packages (from alembic<2.0.0,>=1.13.1->embedchain<0.2.0,>=0.1.98->crewai==0.28.8->crewai[tools]==0.28.8) (1.3.9)\n",
      "Requirement already satisfied: exceptiongroup>=1.0.2 in ./venv/lib/python3.10/site-packages (from anyio<5,>=3.5.0->openai<2.0.0,>=1.13.3->crewai==0.28.8->crewai[tools]==0.28.8) (1.2.2)\n",
      "Requirement already satisfied: idna>=2.8 in ./venv/lib/python3.10/site-packages (from anyio<5,>=3.5.0->openai<2.0.0,>=1.13.3->crewai==0.28.8->crewai[tools]==0.28.8) (3.10)\n",
      "Requirement already satisfied: soupsieve>1.2 in ./venv/lib/python3.10/site-packages (from beautifulsoup4<5.0.0,>=4.12.3->crewai-tools<0.2.0,>=0.1.7->crewai[tools]==0.28.8) (2.6)\n",
      "Requirement already satisfied: build>=1.0.3 in ./venv/lib/python3.10/site-packages (from chromadb<0.5.0,>=0.4.22->crewai-tools<0.2.0,>=0.1.7->crewai[tools]==0.28.8) (1.2.2.post1)\n",
      "Requirement already satisfied: chroma-hnswlib==0.7.3 in ./venv/lib/python3.10/site-packages (from chromadb<0.5.0,>=0.4.22->crewai-tools<0.2.0,>=0.1.7->crewai[tools]==0.28.8) (0.7.3)\n",
      "Requirement already satisfied: fastapi>=0.95.2 in ./venv/lib/python3.10/site-packages (from chromadb<0.5.0,>=0.4.22->crewai-tools<0.2.0,>=0.1.7->crewai[tools]==0.28.8) (0.115.12)\n",
      "Requirement already satisfied: uvicorn>=0.18.3 in ./venv/lib/python3.10/site-packages (from uvicorn[standard]>=0.18.3->chromadb<0.5.0,>=0.4.22->crewai-tools<0.2.0,>=0.1.7->crewai[tools]==0.28.8) (0.34.0)\n",
      "Requirement already satisfied: pulsar-client>=3.1.0 in ./venv/lib/python3.10/site-packages (from chromadb<0.5.0,>=0.4.22->crewai-tools<0.2.0,>=0.1.7->crewai[tools]==0.28.8) (3.6.1)\n",
      "Requirement already satisfied: onnxruntime>=1.14.1 in ./venv/lib/python3.10/site-packages (from chromadb<0.5.0,>=0.4.22->crewai-tools<0.2.0,>=0.1.7->crewai[tools]==0.28.8) (1.21.0)\n",
      "Requirement already satisfied: opentelemetry-exporter-otlp-proto-grpc>=1.2.0 in ./venv/lib/python3.10/site-packages (from chromadb<0.5.0,>=0.4.22->crewai-tools<0.2.0,>=0.1.7->crewai[tools]==0.28.8) (1.31.1)\n",
      "Requirement already satisfied: opentelemetry-instrumentation-fastapi>=0.41b0 in ./venv/lib/python3.10/site-packages (from chromadb<0.5.0,>=0.4.22->crewai-tools<0.2.0,>=0.1.7->crewai[tools]==0.28.8) (0.52b1)\n",
      "Requirement already satisfied: tokenizers>=0.13.2 in ./venv/lib/python3.10/site-packages (from chromadb<0.5.0,>=0.4.22->crewai-tools<0.2.0,>=0.1.7->crewai[tools]==0.28.8) (0.21.1)\n",
      "Requirement already satisfied: pypika>=0.48.9 in ./venv/lib/python3.10/site-packages (from chromadb<0.5.0,>=0.4.22->crewai-tools<0.2.0,>=0.1.7->crewai[tools]==0.28.8) (0.48.9)\n",
      "Requirement already satisfied: overrides>=7.3.1 in ./venv/lib/python3.10/site-packages (from chromadb<0.5.0,>=0.4.22->crewai-tools<0.2.0,>=0.1.7->crewai[tools]==0.28.8) (7.7.0)\n",
      "Requirement already satisfied: importlib-resources in ./venv/lib/python3.10/site-packages (from chromadb<0.5.0,>=0.4.22->crewai-tools<0.2.0,>=0.1.7->crewai[tools]==0.28.8) (6.5.2)\n",
      "Requirement already satisfied: grpcio>=1.58.0 in ./venv/lib/python3.10/site-packages (from chromadb<0.5.0,>=0.4.22->crewai-tools<0.2.0,>=0.1.7->crewai[tools]==0.28.8) (1.71.0)\n",
      "Requirement already satisfied: bcrypt>=4.0.1 in ./venv/lib/python3.10/site-packages (from chromadb<0.5.0,>=0.4.22->crewai-tools<0.2.0,>=0.1.7->crewai[tools]==0.28.8) (4.3.0)\n",
      "Requirement already satisfied: kubernetes>=28.1.0 in ./venv/lib/python3.10/site-packages (from chromadb<0.5.0,>=0.4.22->crewai-tools<0.2.0,>=0.1.7->crewai[tools]==0.28.8) (32.0.1)\n",
      "Requirement already satisfied: mmh3>=4.0.1 in ./venv/lib/python3.10/site-packages (from chromadb<0.5.0,>=0.4.22->crewai-tools<0.2.0,>=0.1.7->crewai[tools]==0.28.8) (5.1.0)\n",
      "Requirement already satisfied: orjson>=3.9.12 in ./venv/lib/python3.10/site-packages (from chromadb<0.5.0,>=0.4.22->crewai-tools<0.2.0,>=0.1.7->crewai[tools]==0.28.8) (3.10.16)\n",
      "Requirement already satisfied: clarifai-grpc>=10.11.2 in ./venv/lib/python3.10/site-packages (from clarifai<11.0.0,>=10.0.1->embedchain<0.2.0,>=0.1.98->crewai==0.28.8->crewai[tools]==0.28.8) (11.2.6)\n",
      "Requirement already satisfied: clarifai-protocol>=0.0.14 in ./venv/lib/python3.10/site-packages (from clarifai<11.0.0,>=10.0.1->embedchain<0.2.0,>=0.1.98->crewai==0.28.8->crewai[tools]==0.28.8) (0.0.14)\n",
      "Requirement already satisfied: tritonclient>=2.34.0 in ./venv/lib/python3.10/site-packages (from clarifai<11.0.0,>=10.0.1->embedchain<0.2.0,>=0.1.98->crewai==0.28.8->crewai[tools]==0.28.8) (2.55.0)\n",
      "Requirement already satisfied: Pillow>=9.5.0 in ./venv/lib/python3.10/site-packages (from clarifai<11.0.0,>=10.0.1->embedchain<0.2.0,>=0.1.98->crewai==0.28.8->crewai[tools]==0.28.8) (11.1.0)\n",
      "Requirement already satisfied: inquirerpy==0.3.4 in ./venv/lib/python3.10/site-packages (from clarifai<11.0.0,>=10.0.1->embedchain<0.2.0,>=0.1.98->crewai==0.28.8->crewai[tools]==0.28.8) (0.3.4)\n",
      "Requirement already satisfied: tabulate>=0.9.0 in ./venv/lib/python3.10/site-packages (from clarifai<11.0.0,>=10.0.1->embedchain<0.2.0,>=0.1.98->crewai==0.28.8->crewai[tools]==0.28.8) (0.9.0)\n",
      "Requirement already satisfied: fsspec==2024.6.1 in ./venv/lib/python3.10/site-packages (from clarifai<11.0.0,>=10.0.1->embedchain<0.2.0,>=0.1.98->crewai==0.28.8->crewai[tools]==0.28.8) (2024.6.1)\n",
      "Requirement already satisfied: contextlib2>=0.5.5 in ./venv/lib/python3.10/site-packages (from schema<0.8.0,>=0.7.5->embedchain<0.2.0,>=0.1.98->crewai==0.28.8->crewai[tools]==0.28.8) (21.6.0)\n",
      "Requirement already satisfied: pfzy<0.4.0,>=0.3.1 in ./venv/lib/python3.10/site-packages (from inquirerpy==0.3.4->clarifai<11.0.0,>=10.0.1->embedchain<0.2.0,>=0.1.98->crewai==0.28.8->crewai[tools]==0.28.8) (0.3.4)\n",
      "Requirement already satisfied: prompt-toolkit<4.0.0,>=3.0.1 in ./venv/lib/python3.10/site-packages (from inquirerpy==0.3.4->clarifai<11.0.0,>=10.0.1->embedchain<0.2.0,>=0.1.98->crewai==0.28.8->crewai[tools]==0.28.8) (3.0.50)\n",
      "Requirement already satisfied: marshmallow<4.0.0,>=3.18.0 in ./venv/lib/python3.10/site-packages (from dataclasses-json<0.7,>=0.5.7->langchain<0.2.0,>=0.1.10->crewai==0.28.8->crewai[tools]==0.28.8) (3.26.1)\n",
      "Requirement already satisfied: typing-inspect<1,>=0.4.0 in ./venv/lib/python3.10/site-packages (from dataclasses-json<0.7,>=0.5.7->langchain<0.2.0,>=0.1.10->crewai==0.28.8->crewai[tools]==0.28.8) (0.9.0)\n",
      "Requirement already satisfied: wrapt<2,>=1.10 in ./venv/lib/python3.10/site-packages (from deprecated>=1.2.6->opentelemetry-api<2.0.0,>=1.22.0->crewai==0.28.8->crewai[tools]==0.28.8) (1.17.2)\n",
      "Requirement already satisfied: youtube-transcript-api<0.7.0,>=0.6.1 in ./venv/lib/python3.10/site-packages (from embedchain[github,youtube]<0.2.0,>=0.1.85->crewai-tools<0.2.0,>=0.1.7->crewai[tools]==0.28.8) (0.6.3)\n",
      "Requirement already satisfied: yt_dlp<2024.0.0,>=2023.11.14 in ./venv/lib/python3.10/site-packages (from embedchain[github,youtube]<0.2.0,>=0.1.85->crewai-tools<0.2.0,>=0.1.7->crewai[tools]==0.28.8) (2023.12.30)\n",
      "Requirement already satisfied: PyGithub<2.0.0,>=1.59.1 in ./venv/lib/python3.10/site-packages (from embedchain[github,youtube]<0.2.0,>=0.1.85->crewai-tools<0.2.0,>=0.1.7->crewai[tools]==0.28.8) (1.59.1)\n",
      "Requirement already satisfied: gitpython<4.0.0,>=3.1.38 in ./venv/lib/python3.10/site-packages (from embedchain[github,youtube]<0.2.0,>=0.1.85->crewai-tools<0.2.0,>=0.1.7->crewai[tools]==0.28.8) (3.1.44)\n",
      "Requirement already satisfied: google-api-core!=2.0.*,!=2.1.*,!=2.2.*,!=2.3.*,!=2.4.*,!=2.5.*,!=2.6.*,!=2.7.*,<3.0.0,>=1.34.1 in ./venv/lib/python3.10/site-packages (from google-api-core[grpc]!=2.0.*,!=2.1.*,!=2.2.*,!=2.3.*,!=2.4.*,!=2.5.*,!=2.6.*,!=2.7.*,<3.0.0,>=1.34.1->google-cloud-aiplatform<2.0.0,>=1.26.1->embedchain<0.2.0,>=0.1.98->crewai==0.28.8->crewai[tools]==0.28.8) (2.24.2)\n",
      "Requirement already satisfied: google-auth<3.0.0,>=2.14.1 in ./venv/lib/python3.10/site-packages (from google-cloud-aiplatform<2.0.0,>=1.26.1->embedchain<0.2.0,>=0.1.98->crewai==0.28.8->crewai[tools]==0.28.8) (2.38.0)\n",
      "Requirement already satisfied: proto-plus<2.0.0,>=1.22.3 in ./venv/lib/python3.10/site-packages (from google-cloud-aiplatform<2.0.0,>=1.26.1->embedchain<0.2.0,>=0.1.98->crewai==0.28.8->crewai[tools]==0.28.8) (1.26.1)\n",
      "Requirement already satisfied: packaging>=14.3 in ./venv/lib/python3.10/site-packages (from google-cloud-aiplatform<2.0.0,>=1.26.1->embedchain<0.2.0,>=0.1.98->crewai==0.28.8->crewai[tools]==0.28.8) (23.2)\n",
      "Requirement already satisfied: google-cloud-storage<3.0.0,>=1.32.0 in ./venv/lib/python3.10/site-packages (from google-cloud-aiplatform<2.0.0,>=1.26.1->embedchain<0.2.0,>=0.1.98->crewai==0.28.8->crewai[tools]==0.28.8) (2.19.0)\n",
      "Requirement already satisfied: google-cloud-bigquery!=3.20.0,<4.0.0,>=1.15.0 in ./venv/lib/python3.10/site-packages (from google-cloud-aiplatform<2.0.0,>=1.26.1->embedchain<0.2.0,>=0.1.98->crewai==0.28.8->crewai[tools]==0.28.8) (3.30.0)\n",
      "Requirement already satisfied: google-cloud-resource-manager<3.0.0,>=1.3.3 in ./venv/lib/python3.10/site-packages (from google-cloud-aiplatform<2.0.0,>=1.26.1->embedchain<0.2.0,>=0.1.98->crewai==0.28.8->crewai[tools]==0.28.8) (1.14.2)\n",
      "Requirement already satisfied: shapely<3.0.0 in ./venv/lib/python3.10/site-packages (from google-cloud-aiplatform<2.0.0,>=1.26.1->embedchain<0.2.0,>=0.1.98->crewai==0.28.8->crewai[tools]==0.28.8) (2.0.7)\n",
      "Requirement already satisfied: cachetools in ./venv/lib/python3.10/site-packages (from gptcache<0.2.0,>=0.1.43->embedchain<0.2.0,>=0.1.98->crewai==0.28.8->crewai[tools]==0.28.8) (5.5.2)\n",
      "Requirement already satisfied: certifi in ./venv/lib/python3.10/site-packages (from httpx<1,>=0.23.0->openai<2.0.0,>=1.13.3->crewai==0.28.8->crewai[tools]==0.28.8) (2025.1.31)\n",
      "Requirement already satisfied: httpcore==1.* in ./venv/lib/python3.10/site-packages (from httpx<1,>=0.23.0->openai<2.0.0,>=1.13.3->crewai==0.28.8->crewai[tools]==0.28.8) (1.0.7)\n",
      "Requirement already satisfied: h11<0.15,>=0.13 in ./venv/lib/python3.10/site-packages (from httpcore==1.*->httpx<1,>=0.23.0->openai<2.0.0,>=1.13.3->crewai==0.28.8->crewai[tools]==0.28.8) (0.14.0)\n",
      "Requirement already satisfied: zipp>=3.20 in ./venv/lib/python3.10/site-packages (from importlib-metadata<8.7.0,>=6.0->opentelemetry-api<2.0.0,>=1.22.0->crewai==0.28.8->crewai[tools]==0.28.8) (3.21.0)\n",
      "Requirement already satisfied: deprecation in ./venv/lib/python3.10/site-packages (from lancedb<0.6.0,>=0.5.4->crewai-tools<0.2.0,>=0.1.7->crewai[tools]==0.28.8) (2.1.0)\n",
      "Requirement already satisfied: pylance==0.9.18 in ./venv/lib/python3.10/site-packages (from lancedb<0.6.0,>=0.5.4->crewai-tools<0.2.0,>=0.1.7->crewai[tools]==0.28.8) (0.9.18)\n",
      "Requirement already satisfied: ratelimiter~=1.0 in ./venv/lib/python3.10/site-packages (from lancedb<0.6.0,>=0.5.4->crewai-tools<0.2.0,>=0.1.7->crewai[tools]==0.28.8) (1.2.0.post0)\n",
      "Requirement already satisfied: retry>=0.9.2 in ./venv/lib/python3.10/site-packages (from lancedb<0.6.0,>=0.5.4->crewai-tools<0.2.0,>=0.1.7->crewai[tools]==0.28.8) (0.9.2)\n",
      "Requirement already satisfied: semver>=3.0 in ./venv/lib/python3.10/site-packages (from lancedb<0.6.0,>=0.5.4->crewai-tools<0.2.0,>=0.1.7->crewai[tools]==0.28.8) (3.0.4)\n",
      "Requirement already satisfied: pyarrow>=12 in ./venv/lib/python3.10/site-packages (from pylance==0.9.18->lancedb<0.6.0,>=0.5.4->crewai-tools<0.2.0,>=0.1.7->crewai[tools]==0.28.8) (19.0.1)\n",
      "Requirement already satisfied: cohere<6.0,>=5.5 in ./venv/lib/python3.10/site-packages (from langchain-cohere<0.2.0,>=0.1.4->embedchain<0.2.0,>=0.1.98->crewai==0.28.8->crewai[tools]==0.28.8) (5.14.0)\n",
      "Requirement already satisfied: jsonpatch<2.0,>=1.33 in ./venv/lib/python3.10/site-packages (from langchain-core<0.2.0,>=0.1.52->langchain<0.2.0,>=0.1.10->crewai==0.28.8->crewai[tools]==0.28.8) (1.33)\n",
      "Requirement already satisfied: requests-toolbelt<2.0.0,>=1.0.0 in ./venv/lib/python3.10/site-packages (from langsmith<0.2.0,>=0.1.17->langchain<0.2.0,>=0.1.10->crewai==0.28.8->crewai[tools]==0.28.8) (1.0.0)\n",
      "Requirement already satisfied: six>=1.5 in ./venv/lib/python3.10/site-packages (from posthog<4.0.0,>=3.0.2->embedchain<0.2.0,>=0.1.98->crewai==0.28.8->crewai[tools]==0.28.8) (1.17.0)\n",
      "Requirement already satisfied: monotonic>=1.5 in ./venv/lib/python3.10/site-packages (from posthog<4.0.0,>=3.0.2->embedchain<0.2.0,>=0.1.98->crewai==0.28.8->crewai[tools]==0.28.8) (1.6)\n",
      "Requirement already satisfied: backoff>=1.10.0 in ./venv/lib/python3.10/site-packages (from posthog<4.0.0,>=3.0.2->embedchain<0.2.0,>=0.1.98->crewai==0.28.8->crewai[tools]==0.28.8) (2.2.1)\n",
      "Requirement already satisfied: python-dateutil>2.1 in ./venv/lib/python3.10/site-packages (from posthog<4.0.0,>=3.0.2->embedchain<0.2.0,>=0.1.98->crewai==0.28.8->crewai[tools]==0.28.8) (2.9.0.post0)\n",
      "Requirement already satisfied: nodeenv>=1.6.0 in ./venv/lib/python3.10/site-packages (from pyright<2.0.0,>=1.1.350->crewai-tools<0.2.0,>=0.1.7->crewai[tools]==0.28.8) (1.9.1)\n",
      "Requirement already satisfied: iniconfig in ./venv/lib/python3.10/site-packages (from pytest<9.0.0,>=8.0.0->crewai-tools<0.2.0,>=0.1.7->crewai[tools]==0.28.8) (2.1.0)\n",
      "Requirement already satisfied: pluggy<2,>=1.5 in ./venv/lib/python3.10/site-packages (from pytest<9.0.0,>=8.0.0->crewai-tools<0.2.0,>=0.1.7->crewai[tools]==0.28.8) (1.5.0)\n",
      "Requirement already satisfied: tomli>=1 in ./venv/lib/python3.10/site-packages (from pytest<9.0.0,>=8.0.0->crewai-tools<0.2.0,>=0.1.7->crewai[tools]==0.28.8) (2.2.1)\n",
      "Requirement already satisfied: charset-normalizer<4,>=2 in ./venv/lib/python3.10/site-packages (from requests<3.0.0,>=2.31.0->crewai-tools<0.2.0,>=0.1.7->crewai[tools]==0.28.8) (3.4.1)\n",
      "Requirement already satisfied: urllib3<3,>=1.21.1 in ./venv/lib/python3.10/site-packages (from requests<3.0.0,>=2.31.0->crewai-tools<0.2.0,>=0.1.7->crewai[tools]==0.28.8) (2.3.0)\n",
      "Requirement already satisfied: markdown-it-py>=2.2.0 in ./venv/lib/python3.10/site-packages (from rich<14.0.0,>=13.7.0->embedchain<0.2.0,>=0.1.98->crewai==0.28.8->crewai[tools]==0.28.8) (3.0.0)\n",
      "Requirement already satisfied: pygments<3.0.0,>=2.13.0 in ./venv/lib/python3.10/site-packages (from rich<14.0.0,>=13.7.0->embedchain<0.2.0,>=0.1.98->crewai==0.28.8->crewai[tools]==0.28.8) (2.19.1)\n",
      "Requirement already satisfied: trio~=0.17 in ./venv/lib/python3.10/site-packages (from selenium<5.0.0,>=4.18.1->crewai-tools<0.2.0,>=0.1.7->crewai[tools]==0.28.8) (0.29.0)\n",
      "Requirement already satisfied: trio-websocket~=0.9 in ./venv/lib/python3.10/site-packages (from selenium<5.0.0,>=4.18.1->crewai-tools<0.2.0,>=0.1.7->crewai[tools]==0.28.8) (0.12.2)\n",
      "Requirement already satisfied: websocket-client~=1.8 in ./venv/lib/python3.10/site-packages (from selenium<5.0.0,>=4.18.1->crewai-tools<0.2.0,>=0.1.7->crewai[tools]==0.28.8) (1.8.0)\n",
      "Requirement already satisfied: greenlet!=0.4.17 in ./venv/lib/python3.10/site-packages (from sqlalchemy<3.0.0,>=2.0.27->embedchain<0.2.0,>=0.1.98->crewai==0.28.8->crewai[tools]==0.28.8) (3.1.1)\n",
      "Requirement already satisfied: pyproject_hooks in ./venv/lib/python3.10/site-packages (from build>=1.0.3->chromadb<0.5.0,>=0.4.22->crewai-tools<0.2.0,>=0.1.7->crewai[tools]==0.28.8) (1.2.0)\n",
      "Requirement already satisfied: fastavro<2.0.0,>=1.9.4 in ./venv/lib/python3.10/site-packages (from cohere<6.0,>=5.5->langchain-cohere<0.2.0,>=0.1.4->embedchain<0.2.0,>=0.1.98->crewai==0.28.8->crewai[tools]==0.28.8) (1.10.0)\n",
      "Requirement already satisfied: httpx-sse==0.4.0 in ./venv/lib/python3.10/site-packages (from cohere<6.0,>=5.5->langchain-cohere<0.2.0,>=0.1.4->embedchain<0.2.0,>=0.1.98->crewai==0.28.8->crewai[tools]==0.28.8) (0.4.0)\n",
      "Requirement already satisfied: types-requests<3.0.0,>=2.0.0 in ./venv/lib/python3.10/site-packages (from cohere<6.0,>=5.5->langchain-cohere<0.2.0,>=0.1.4->embedchain<0.2.0,>=0.1.98->crewai==0.28.8->crewai[tools]==0.28.8) (2.32.0.20250306)\n",
      "Requirement already satisfied: starlette<0.47.0,>=0.40.0 in ./venv/lib/python3.10/site-packages (from fastapi>=0.95.2->chromadb<0.5.0,>=0.4.22->crewai-tools<0.2.0,>=0.1.7->crewai[tools]==0.28.8) (0.46.1)\n",
      "Requirement already satisfied: gitdb<5,>=4.0.1 in ./venv/lib/python3.10/site-packages (from gitpython<4.0.0,>=3.1.38->embedchain[github,youtube]<0.2.0,>=0.1.85->crewai-tools<0.2.0,>=0.1.7->crewai[tools]==0.28.8) (4.0.12)\n",
      "Requirement already satisfied: grpcio-status<2.0.dev0,>=1.33.2 in ./venv/lib/python3.10/site-packages (from google-api-core[grpc]!=2.0.*,!=2.1.*,!=2.2.*,!=2.3.*,!=2.4.*,!=2.5.*,!=2.6.*,!=2.7.*,<3.0.0,>=1.34.1->google-cloud-aiplatform<2.0.0,>=1.26.1->embedchain<0.2.0,>=0.1.98->crewai==0.28.8->crewai[tools]==0.28.8) (1.71.0)\n",
      "Requirement already satisfied: pyasn1-modules>=0.2.1 in ./venv/lib/python3.10/site-packages (from google-auth<3.0.0,>=2.14.1->google-cloud-aiplatform<2.0.0,>=1.26.1->embedchain<0.2.0,>=0.1.98->crewai==0.28.8->crewai[tools]==0.28.8) (0.4.1)\n",
      "Requirement already satisfied: rsa<5,>=3.1.4 in ./venv/lib/python3.10/site-packages (from google-auth<3.0.0,>=2.14.1->google-cloud-aiplatform<2.0.0,>=1.26.1->embedchain<0.2.0,>=0.1.98->crewai==0.28.8->crewai[tools]==0.28.8) (4.9)\n",
      "Requirement already satisfied: google-cloud-core<3.0.0dev,>=2.4.1 in ./venv/lib/python3.10/site-packages (from google-cloud-bigquery!=3.20.0,<4.0.0,>=1.15.0->google-cloud-aiplatform<2.0.0,>=1.26.1->embedchain<0.2.0,>=0.1.98->crewai==0.28.8->crewai[tools]==0.28.8) (2.4.3)\n",
      "Requirement already satisfied: google-resumable-media<3.0dev,>=2.0.0 in ./venv/lib/python3.10/site-packages (from google-cloud-bigquery!=3.20.0,<4.0.0,>=1.15.0->google-cloud-aiplatform<2.0.0,>=1.26.1->embedchain<0.2.0,>=0.1.98->crewai==0.28.8->crewai[tools]==0.28.8) (2.7.2)\n",
      "Requirement already satisfied: grpc-google-iam-v1<1.0.0,>=0.14.0 in ./venv/lib/python3.10/site-packages (from google-cloud-resource-manager<3.0.0,>=1.3.3->google-cloud-aiplatform<2.0.0,>=1.26.1->embedchain<0.2.0,>=0.1.98->crewai==0.28.8->crewai[tools]==0.28.8) (0.14.2)\n",
      "Requirement already satisfied: google-crc32c<2.0dev,>=1.0 in ./venv/lib/python3.10/site-packages (from google-cloud-storage<3.0.0,>=1.32.0->google-cloud-aiplatform<2.0.0,>=1.26.1->embedchain<0.2.0,>=0.1.98->crewai==0.28.8->crewai[tools]==0.28.8) (1.7.1)\n",
      "Requirement already satisfied: jsonpointer>=1.9 in ./venv/lib/python3.10/site-packages (from jsonpatch<2.0,>=1.33->langchain-core<0.2.0,>=0.1.52->langchain<0.2.0,>=0.1.10->crewai==0.28.8->crewai[tools]==0.28.8) (3.0.0)\n",
      "Requirement already satisfied: requests-oauthlib in ./venv/lib/python3.10/site-packages (from kubernetes>=28.1.0->chromadb<0.5.0,>=0.4.22->crewai-tools<0.2.0,>=0.1.7->crewai[tools]==0.28.8) (2.0.0)\n",
      "Requirement already satisfied: oauthlib>=3.2.2 in ./venv/lib/python3.10/site-packages (from kubernetes>=28.1.0->chromadb<0.5.0,>=0.4.22->crewai-tools<0.2.0,>=0.1.7->crewai[tools]==0.28.8) (3.2.2)\n",
      "Requirement already satisfied: durationpy>=0.7 in ./venv/lib/python3.10/site-packages (from kubernetes>=28.1.0->chromadb<0.5.0,>=0.4.22->crewai-tools<0.2.0,>=0.1.7->crewai[tools]==0.28.8) (0.9)\n",
      "Requirement already satisfied: mdurl~=0.1 in ./venv/lib/python3.10/site-packages (from markdown-it-py>=2.2.0->rich<14.0.0,>=13.7.0->embedchain<0.2.0,>=0.1.98->crewai==0.28.8->crewai[tools]==0.28.8) (0.1.2)\n",
      "Requirement already satisfied: coloredlogs in ./venv/lib/python3.10/site-packages (from onnxruntime>=1.14.1->chromadb<0.5.0,>=0.4.22->crewai-tools<0.2.0,>=0.1.7->crewai[tools]==0.28.8) (15.0.1)\n",
      "Requirement already satisfied: flatbuffers in ./venv/lib/python3.10/site-packages (from onnxruntime>=1.14.1->chromadb<0.5.0,>=0.4.22->crewai-tools<0.2.0,>=0.1.7->crewai[tools]==0.28.8) (25.2.10)\n",
      "Requirement already satisfied: sympy in ./venv/lib/python3.10/site-packages (from onnxruntime>=1.14.1->chromadb<0.5.0,>=0.4.22->crewai-tools<0.2.0,>=0.1.7->crewai[tools]==0.28.8) (1.13.3)\n",
      "Requirement already satisfied: opentelemetry-instrumentation-asgi==0.52b1 in ./venv/lib/python3.10/site-packages (from opentelemetry-instrumentation-fastapi>=0.41b0->chromadb<0.5.0,>=0.4.22->crewai-tools<0.2.0,>=0.1.7->crewai[tools]==0.28.8) (0.52b1)\n",
      "Requirement already satisfied: opentelemetry-instrumentation==0.52b1 in ./venv/lib/python3.10/site-packages (from opentelemetry-instrumentation-fastapi>=0.41b0->chromadb<0.5.0,>=0.4.22->crewai-tools<0.2.0,>=0.1.7->crewai[tools]==0.28.8) (0.52b1)\n",
      "Requirement already satisfied: opentelemetry-util-http==0.52b1 in ./venv/lib/python3.10/site-packages (from opentelemetry-instrumentation-fastapi>=0.41b0->chromadb<0.5.0,>=0.4.22->crewai-tools<0.2.0,>=0.1.7->crewai[tools]==0.28.8) (0.52b1)\n",
      "Requirement already satisfied: asgiref~=3.0 in ./venv/lib/python3.10/site-packages (from opentelemetry-instrumentation-asgi==0.52b1->opentelemetry-instrumentation-fastapi>=0.41b0->chromadb<0.5.0,>=0.4.22->crewai-tools<0.2.0,>=0.1.7->crewai[tools]==0.28.8) (3.8.1)\n",
      "Requirement already satisfied: pyjwt>=2.4.0 in ./venv/lib/python3.10/site-packages (from pyjwt[crypto]>=2.4.0->PyGithub<2.0.0,>=1.59.1->embedchain[github,youtube]<0.2.0,>=0.1.85->crewai-tools<0.2.0,>=0.1.7->crewai[tools]==0.28.8) (2.10.1)\n",
      "Requirement already satisfied: pynacl>=1.4.0 in ./venv/lib/python3.10/site-packages (from PyGithub<2.0.0,>=1.59.1->embedchain[github,youtube]<0.2.0,>=0.1.85->crewai-tools<0.2.0,>=0.1.7->crewai[tools]==0.28.8) (1.5.0)\n",
      "Requirement already satisfied: decorator>=3.4.2 in ./venv/lib/python3.10/site-packages (from retry>=0.9.2->lancedb<0.6.0,>=0.5.4->crewai-tools<0.2.0,>=0.1.7->crewai[tools]==0.28.8) (5.2.1)\n",
      "Requirement already satisfied: py<2.0.0,>=1.4.26 in ./venv/lib/python3.10/site-packages (from retry>=0.9.2->lancedb<0.6.0,>=0.5.4->crewai-tools<0.2.0,>=0.1.7->crewai[tools]==0.28.8) (1.11.0)\n",
      "Requirement already satisfied: huggingface-hub<1.0,>=0.16.4 in ./venv/lib/python3.10/site-packages (from tokenizers>=0.13.2->chromadb<0.5.0,>=0.4.22->crewai-tools<0.2.0,>=0.1.7->crewai[tools]==0.28.8) (0.29.3)\n",
      "Requirement already satisfied: sortedcontainers in ./venv/lib/python3.10/site-packages (from trio~=0.17->selenium<5.0.0,>=4.18.1->crewai-tools<0.2.0,>=0.1.7->crewai[tools]==0.28.8) (2.4.0)\n",
      "Requirement already satisfied: outcome in ./venv/lib/python3.10/site-packages (from trio~=0.17->selenium<5.0.0,>=4.18.1->crewai-tools<0.2.0,>=0.1.7->crewai[tools]==0.28.8) (1.3.0.post0)\n",
      "Requirement already satisfied: wsproto>=0.14 in ./venv/lib/python3.10/site-packages (from trio-websocket~=0.9->selenium<5.0.0,>=4.18.1->crewai-tools<0.2.0,>=0.1.7->crewai[tools]==0.28.8) (1.2.0)\n",
      "Requirement already satisfied: python-rapidjson>=0.9.1 in ./venv/lib/python3.10/site-packages (from tritonclient>=2.34.0->clarifai<11.0.0,>=10.0.1->embedchain<0.2.0,>=0.1.98->crewai==0.28.8->crewai[tools]==0.28.8) (1.20)\n",
      "Requirement already satisfied: mypy-extensions>=0.3.0 in ./venv/lib/python3.10/site-packages (from typing-inspect<1,>=0.4.0->dataclasses-json<0.7,>=0.5.7->langchain<0.2.0,>=0.1.10->crewai==0.28.8->crewai[tools]==0.28.8) (1.0.0)\n",
      "Requirement already satisfied: pysocks!=1.5.7,<2.0,>=1.5.6 in ./venv/lib/python3.10/site-packages (from urllib3[socks]<3,>=1.26->selenium<5.0.0,>=4.18.1->crewai-tools<0.2.0,>=0.1.7->crewai[tools]==0.28.8) (1.7.1)\n",
      "Requirement already satisfied: httptools>=0.6.3 in ./venv/lib/python3.10/site-packages (from uvicorn[standard]>=0.18.3->chromadb<0.5.0,>=0.4.22->crewai-tools<0.2.0,>=0.1.7->crewai[tools]==0.28.8) (0.6.4)\n",
      "Requirement already satisfied: uvloop!=0.15.0,!=0.15.1,>=0.14.0 in ./venv/lib/python3.10/site-packages (from uvicorn[standard]>=0.18.3->chromadb<0.5.0,>=0.4.22->crewai-tools<0.2.0,>=0.1.7->crewai[tools]==0.28.8) (0.21.0)\n",
      "Requirement already satisfied: watchfiles>=0.13 in ./venv/lib/python3.10/site-packages (from uvicorn[standard]>=0.18.3->chromadb<0.5.0,>=0.4.22->crewai-tools<0.2.0,>=0.1.7->crewai[tools]==0.28.8) (1.0.4)\n",
      "Requirement already satisfied: websockets>=10.4 in ./venv/lib/python3.10/site-packages (from uvicorn[standard]>=0.18.3->chromadb<0.5.0,>=0.4.22->crewai-tools<0.2.0,>=0.1.7->crewai[tools]==0.28.8) (15.0.1)\n",
      "Requirement already satisfied: defusedxml<0.8.0,>=0.7.1 in ./venv/lib/python3.10/site-packages (from youtube-transcript-api<0.7.0,>=0.6.1->embedchain[github,youtube]<0.2.0,>=0.1.85->crewai-tools<0.2.0,>=0.1.7->crewai[tools]==0.28.8) (0.7.1)\n",
      "Requirement already satisfied: mutagen in ./venv/lib/python3.10/site-packages (from yt_dlp<2024.0.0,>=2023.11.14->embedchain[github,youtube]<0.2.0,>=0.1.85->crewai-tools<0.2.0,>=0.1.7->crewai[tools]==0.28.8) (1.47.0)\n",
      "Requirement already satisfied: pycryptodomex in ./venv/lib/python3.10/site-packages (from yt_dlp<2024.0.0,>=2023.11.14->embedchain[github,youtube]<0.2.0,>=0.1.85->crewai-tools<0.2.0,>=0.1.7->crewai[tools]==0.28.8) (3.22.0)\n",
      "Requirement already satisfied: brotli in ./venv/lib/python3.10/site-packages (from yt_dlp<2024.0.0,>=2023.11.14->embedchain[github,youtube]<0.2.0,>=0.1.85->crewai-tools<0.2.0,>=0.1.7->crewai[tools]==0.28.8) (1.1.0)\n",
      "Requirement already satisfied: MarkupSafe>=0.9.2 in ./venv/lib/python3.10/site-packages (from Mako->alembic<2.0.0,>=1.13.1->embedchain<0.2.0,>=0.1.98->crewai==0.28.8->crewai[tools]==0.28.8) (3.0.2)\n",
      "Requirement already satisfied: smmap<6,>=3.0.1 in ./venv/lib/python3.10/site-packages (from gitdb<5,>=4.0.1->gitpython<4.0.0,>=3.1.38->embedchain[github,youtube]<0.2.0,>=0.1.85->crewai-tools<0.2.0,>=0.1.7->crewai[tools]==0.28.8) (5.0.2)\n",
      "Requirement already satisfied: filelock in ./venv/lib/python3.10/site-packages (from huggingface-hub<1.0,>=0.16.4->tokenizers>=0.13.2->chromadb<0.5.0,>=0.4.22->crewai-tools<0.2.0,>=0.1.7->crewai[tools]==0.28.8) (3.18.0)\n",
      "Requirement already satisfied: wcwidth in ./venv/lib/python3.10/site-packages (from prompt-toolkit<4.0.0,>=3.0.1->inquirerpy==0.3.4->clarifai<11.0.0,>=10.0.1->embedchain<0.2.0,>=0.1.98->crewai==0.28.8->crewai[tools]==0.28.8) (0.2.13)\n",
      "Requirement already satisfied: pyasn1<0.7.0,>=0.4.6 in ./venv/lib/python3.10/site-packages (from pyasn1-modules>=0.2.1->google-auth<3.0.0,>=2.14.1->google-cloud-aiplatform<2.0.0,>=1.26.1->embedchain<0.2.0,>=0.1.98->crewai==0.28.8->crewai[tools]==0.28.8) (0.6.1)\n",
      "Requirement already satisfied: cryptography>=3.4.0 in ./venv/lib/python3.10/site-packages (from pyjwt[crypto]>=2.4.0->PyGithub<2.0.0,>=1.59.1->embedchain[github,youtube]<0.2.0,>=0.1.85->crewai-tools<0.2.0,>=0.1.7->crewai[tools]==0.28.8) (44.0.2)\n",
      "Requirement already satisfied: cffi>=1.4.1 in ./venv/lib/python3.10/site-packages (from pynacl>=1.4.0->PyGithub<2.0.0,>=1.59.1->embedchain[github,youtube]<0.2.0,>=0.1.85->crewai-tools<0.2.0,>=0.1.7->crewai[tools]==0.28.8) (1.17.1)\n",
      "Requirement already satisfied: humanfriendly>=9.1 in ./venv/lib/python3.10/site-packages (from coloredlogs->onnxruntime>=1.14.1->chromadb<0.5.0,>=0.4.22->crewai-tools<0.2.0,>=0.1.7->crewai[tools]==0.28.8) (10.0)\n",
      "Requirement already satisfied: mpmath<1.4,>=1.1.0 in ./venv/lib/python3.10/site-packages (from sympy->onnxruntime>=1.14.1->chromadb<0.5.0,>=0.4.22->crewai-tools<0.2.0,>=0.1.7->crewai[tools]==0.28.8) (1.3.0)\n",
      "Requirement already satisfied: pycparser in ./venv/lib/python3.10/site-packages (from cffi>=1.4.1->pynacl>=1.4.0->PyGithub<2.0.0,>=1.59.1->embedchain[github,youtube]<0.2.0,>=0.1.85->crewai-tools<0.2.0,>=0.1.7->crewai[tools]==0.28.8) (2.22)\n",
      "Note: you may need to restart the kernel to use updated packages.\n",
      "ERROR: unknown command \"duckduckgo-search==5.3.0\"\n",
      "Note: you may need to restart the kernel to use updated packages.\n"
     ]
    }
   ],
   "source": [
    "%pip install 'crewai[tools]'==0.28.8 \n",
    "%pip duckduckgo-search==5.3.0 "
   ]
  },
  {
   "cell_type": "markdown",
   "metadata": {},
   "source": [
    "## Step # 02: Import necessary libraries"
   ]
  },
  {
   "cell_type": "code",
   "execution_count": 2,
   "metadata": {},
   "outputs": [
    {
     "name": "stderr",
     "output_type": "stream",
     "text": [
      "/home/mahrukh/NLP/Agents/venv/lib/python3.10/site-packages/pydantic/_internal/_generate_schema.py:775: UserWarning: Mixing V1 models and V2 models (or constructs, like `TypeAdapter`) is not supported. Please upgrade `CrewAgentExecutor` to V2.\n",
      "  warn(\n"
     ]
    }
   ],
   "source": [
    "import json                                                  #for handling JSON data\n",
    "import os                                                    #for interacting with operating system(file paths, env-variables)\n",
    "import re                                                    #for working with regular expressions(text pattern matching)\n",
    "import requests                                              #for making HTTPS requests(sending or getting data from API's)\n",
    "from datetime import datetime                                #for date and time\n",
    "from crewai import Agent, Crew, Process, Task                #framework to create autonomous AI Agents\n",
    "from IPython.display import Markdown                         #display Markdown-formatted text inside Jupyter Notebook output cells\n",
    "from langchain.agents import load_tools                      #LangChain is a framework used to build applications powered by large language models (LLMs)\n",
    "from langchain.tools import tool\n",
    "from langchain_community.tools import DuckDuckGoSearchResults\n",
    "from langchain_openai import ChatOpenAI\n"
   ]
  },
  {
   "cell_type": "code",
   "execution_count": 3,
   "metadata": {},
   "outputs": [],
   "source": [
    "#Function: to process a string containing multiple comma-separated entries enclosed in square brackets and return a cleaned list of those entries. \n",
    "def format_response(response: str) -> str:\n",
    "    entries = re.split(r\", (?=\\[)\", response) \n",
    "    return [entry.strip(\"[]\") for entry in entries] "
   ]
  },
  {
   "cell_type": "markdown",
   "metadata": {},
   "source": [
    "## Step # 03: Set OPEN_API_KEY"
   ]
  },
  {
   "cell_type": "code",
   "execution_count": null,
   "metadata": {},
   "outputs": [],
   "source": [
    "os.environ[\"OPENAI_API_KEY\"] = \"<YOUR_OPENAI_API_KEY>\""
   ]
  },
  {
   "cell_type": "markdown",
   "metadata": {},
   "source": [
    "## Step # 04: Initializes a DuckDuckGo Search tool\n",
    "The tool will fetch news-related search results with a specified number of results."
   ]
  },
  {
   "cell_type": "code",
   "execution_count": 5,
   "metadata": {},
   "outputs": [],
   "source": [
    "search_tool = DuckDuckGoSearchResults(backend=\"news\", num_results=13)"
   ]
  },
  {
   "cell_type": "markdown",
   "metadata": {},
   "source": [
    "## Step # 05: Data Source"
   ]
  },
  {
   "cell_type": "code",
   "execution_count": 6,
   "metadata": {},
   "outputs": [
    {
     "data": {
      "text/plain": [
       "['snippet: Ndlula, Umngani and Khosi — scramble to encircle and shield the two 7-year-old calves, Zuli and Mkhaya, from any possible threats., title: Video shows elephants at San Diego Zoo Safari Park racing to protect their young during earthquake, link: https://www.msn.com/en-us/public-safety-and-emergencies/health-and-safety-alerts/elephants-at-san-diego-zoo-huddle-to-protect-calves-during-earthquake/ar-AA1CVa1c, date: 2025-04-15T21:09:00+00:00, source: The Associated Press',\n",
       " \"snippet: A preliminary 6.0-magnitude earthquake struck near San Diego, according to the U.S. Geological Survey. The quake's epicenter was recorded 1.86 northeast of San Diego County, in Julian. It is not yet known if there are reports of injuries or damage., title: 5.2-magnitude earthquake strikes San Diego area, jolting Southern California near San Andreas system fault, link: https://www.cbsnews.com/losangeles/news/earthquake-strikes-near-san-diego/, date: 2025-04-15T07:40:00+00:00, source: CBS News\",\n",
       " 'snippet: A magnitude 5.2 earthquake was detected, with the epicenter identified near the mountain town of Julian, east of San Diego, according to the U.S. Geological Survey (USGS). The quake was felt as far north as Los Angeles., title: Strong Earthquake Rattles San Diego, link: https://www.msn.com/en-us/news/world/strong-earthquake-rattles-san-diego/ar-AA1CUiWG, date: 2025-04-14T17:21:10+00:00, source: Newsweek',\n",
       " 'snippet: A 5.2 magnitude earthquake shook Southern California on Monday, according to the U.S. Geological Survey. The quake was centered in San Diego County but was felt as far north as Los Angeles. No injuries or damage have been reported,, title: 5.2 magnitude earthquake shakes Southern California, link: https://www.msn.com/en-us/news/other/news-notification/ar-AA1CUiyx, date: 2025-04-14T19:20:57+00:00, source: ABC News',\n",
       " 'snippet: Heart-melting video shows African elephants at the San Diego Zoo instinctively forming a protective circle after the earthquake hit Southern California., title: Watch as elephants form a protective circle in San Diego after 5.2-magnitude earthquake, link: https://www.msn.com/en-us/news/us/watch-as-elephants-form-a-protective-circle-in-san-diego-after-52-magnitude-earthquake/ar-AA1CVbf3, date: 2025-04-15T00:22:19+00:00, source: USA TODAY',\n",
       " 'snippet: The earthquake had a preliminary magnitude of 5.2 and was near the mountain town of Julian, east of San Diego, according to the U.S. Geological Survey. Multiple aftershocks in the 2 and 3 magnitude range have been reported., title: 5.2 magnitude earthquake near San Diego rattles parts of LA and Orange counties, link: https://abc7.com/post/51-magnitude-earthquake-strikes-san-diego-usgs-says/16171163/, date: 2025-04-15T07:58:00+00:00, source: ABC7 KABC',\n",
       " 'snippet: The quake centered near San Diego, but shockwaves were felt as far as Los Angeles more than 100 miles away, according to the US Geological Survey., title: Earthquake hits San Diego at 5.2 magnitude and shakes Southern California with effects felt up to LA, link: https://www.msn.com/en-us/weather/topstories/earthquake-hits-san-diego-at-52-magnitude-and-shakes-southern-california-with-effects-felt-up-to-la/ar-AA1CUbZp, date: 2025-04-14T19:20:00+00:00, source: New York Post',\n",
       " 'snippet: A 5.2 earthquake rattled San Diego, California, and the surrounding area on Monday afternoon, according to the US Geological Survey. The quake struck at 10:08 local time (18:00 GMT) with an epicentre in Julian, California. The resort town is located in the Cuyamaca Mountains about an hour north-east of San Diego., title: 5.2-magnitude earthquake hits California near San Diego, link: https://www.bbc.com/news/articles/cvg9ndjvjl9o.amp, date: 2025-04-14T22:43:00+00:00, source: BBC',\n",
       " \"snippet: The zoo reported the herd returned to normal behavior a few minutes after the earthquake, though they continued to remain close., title: Watch as San Diego Zoo Elephants Form 'Alert Circle' During Earthquake, link: https://www.msn.com/en-us/news/us/watch-as-san-diego-zoo-elephants-form-alert-circle-during-earthquake/ar-AA1CUNaV, date: 2025-04-15T01:36:00+00:00, source: Newsweek\",\n",
       " \"snippet: Elephants at San Diego Zoo Safari Park formed an alert circle to protect their young as a magnitude 5.2 earthquake hit the region Monday morning., title: Shocked by earthquake, zoo elephants form 'alert circle' to protect their young at San Diego Zoo, link: https://www.latimes.com/california/story/2025-04-14/elephants-form-alert-circle-to-protect-their-young-as-quake-shakes-san-diego-zoo-safari-park, date: 2025-04-14T08:50:00+00:00, source: Los Angeles Times\",\n",
       " 'snippet: A strong earthquake on Monday morning rattled residents across Southern California, and aftershocks continued to be felt near San Diego., title: Magnitude 5.2 earthquake jolts Southern California as aftershocks rattle San Diego, link: https://www.aol.com/news/magnitude-5-2-earthquake-jolts-172534303.html, date: 2025-04-15T09:58:00+00:00, source: AOL',\n",
       " \"snippet: Monday's 5.2 magnitude temblor marked another success for California's early earthquake warning system, with users in some areas saying they got notifications on their phone before they felt shaking., title: 'That was awesome!' California's earthquake early warning system let many know about today's temblor, link: https://www.msn.com/en-us/money/other/that-was-awesome-californias-earthquake-early-warning-system-let-many-know-about-todays-temblor/ar-AA1CV02J, date: 2025-04-15T07:09:00+00:00, source: LA Times\",\n",
       " 'snippet: A 5.2-magnitude earthquake rumbled through Southern California Monday morning, causing minor damage in areas outside San Diego and triggering ShakeAlert warnings to countless cell phones., title: 5.2-magnitude SoCal earthquake triggers ShakeAlert warnings to countless cell phones, link: https://www.msn.com/en-us/weather/topstories/52-magnitude-socal-earthquake-triggers-shakealert-warnings-to-countless-cell-phones/ar-AA1CVT0a, date: 2025-04-15T05:58:04+00:00, source: ABC7 KABC']"
      ]
     },
     "execution_count": 6,
     "metadata": {},
     "output_type": "execute_result"
    }
   ],
   "source": [
    "response = search_tool.run(\"Earthquake\")\n",
    "format_response(response)"
   ]
  },
  {
   "cell_type": "code",
   "execution_count": 9,
   "metadata": {},
   "outputs": [
    {
     "data": {
      "text/plain": [
       "[\"snippet: It may feel like it rained a lot last year - and it did - but not enough to satisfy L.A. County's critical shortage of rainfall, officials say. A news release issued Tuesday by Water for L.A. County indicates that the county captured nearly 12 billion gallons of stormwater over the past several months., title: L.A. County remains 'critically short' on rainfall despite recent storms, link: https://www.msn.com/en-us/weather/topstories/l-a-county-remains-critically-short-on-rainfall-despite-recent-storms/vi-AA1D2H2N, date: 2025-04-16T14:27:02+00:00, source: KTLA-TV Los Angeles\",\n",
       " \"snippet: MEMPHIS, Tenn. - Life-threatening flooding and dangerous severe weather pummeled large swaths of the nation's heartland again Saturday for the fourth day in a row, promising to leave some areas with heavy rainfall not seen in generations and triggering ..., title: Catastrophic rainfall triggers Flash Flood Emergencies, evacuations as relentless storms drag into fourth day, link: https://www.aol.com/news/catastrophic-rainfall-triggers-flash-flood-094052389.html, date: 2025-04-05T10:43:00+00:00, source: AOL\",\n",
       " \"snippet: Extreme weather is dangerous weather, and that's particularly true for the heavy rainfall events that experts say are becoming more frequent with climate change., title: When heavy rainfall threatens flooding, you can protect yourself. Here's how, link: https://www.msn.com/en-us/news/us/when-heavy-rainfall-threatens-flooding-you-can-protect-yourself-heres-how/ar-AA1Cfgm7, date: 2025-04-03T17:59:33+00:00, source: Associated Press News\",\n",
       " 'snippet: For more detailed rainfall totals for each county, residents can visit kymesonet.org by hitting the \"Select Map\" button and selecting precipitation. More heavy rainfall is expected over the weekend which means flooding will become more widespread., title: See rainfall totals in Kentucky so far this week. More rain is on the way with flooding likely, link: https://www.msn.com/en-us/weather/topstories/see-rainfall-totals-in-kentucky-so-far-this-week-more-rain-is-on-the-way-with-flooding-likely/ar-AA1CiICr, date: 2025-04-04T14:19:00+00:00, source: The Courier Journal',\n",
       " 'snippet: Memphis and areas around the Mid-South saw record rainfall Saturday, leading to flooding and rising river levels., title: Memphis area hit with record rainfall: See how much rain fell across the Mid-South, link: https://www.msn.com/en-us/weather/topstories/memphis-area-hit-with-record-rainfall-see-how-much-rain-fell-across-the-mid-south/ar-AA1CoDZv, date: 2025-04-06T16:27:40+00:00, source: The Commercial Appeal',\n",
       " 'snippet: Scatter showers are expected to persist throughout Sunday, although flooding and high water will linger even after the rain stops, forecasters say., title: Downpours bring flooding, high water in Greater Cincinnati; see local rainfall totals, link: https://www.statesman.com/story/weather/2025/04/06/cincinnati-rainfall-see-local-totals-as-region-experiences-flooding/82963063007/, date: 2025-04-06T14:44:00+00:00, source: Austin American-Statesman',\n",
       " 'snippet: Another cold front sweeping across Texas at the tail end of this week should keep temperatures low. However, it also means a pretty gloomy weekend for much of the Lone Star State, including the risk for severe storms and heavy rainfall for some regions., title: Timeline: Texas cold front brings hail, heavy rainfall risk to major cities, link: https://www.msn.com/en-us/weather/topstories/timeline-texas-cold-front-brings-hail-heavy-rainfall-risk-to-major-cities/ar-AA1D1l27, date: 2025-04-16T09:00:00+00:00, source: MySA',\n",
       " 'snippet: The National Weather Service says several inches of rain have already occurred over the past couple of days and more rainfall is on the way., title: How much rain did we get? Check local rainfall amounts in Greater Cincinnati and NKY, link: https://www.msn.com/en-us/weather/topstories/how-much-rain-did-we-get-check-local-rainfall-amounts-in-greater-cincinnati-and-nky/ar-AA1CijsZ, date: 2025-04-04T12:43:07+00:00, source: The Cincinnati Enquirer',\n",
       " 'snippet: CNN, WHBQ, KMBC, KSPR, KYTV, KFVS, TOSHA QUALLS, COLBY GEORGE, TMX, SAMM MUSICK, MIKE HOCKETT, X, TENNESSEE HIGHWAY PATROL, RACHELJANEMARIE , X, MITCHELL DESPOT, MATT ZIEGLER, SHROUDEDGUARDIAN, REDDIT,, title: Extreme rainfall brings potentially deadly flooding to parts of central US already slammed by storms, link: https://www.msn.com/en-us/weather/topstories/extreme-rainfall-brings-potentially-deadly-flooding-to-parts-of-central-us-already-slammed-by-storms/ar-AA1Ch9JY, date: 2025-04-04T09:02:25+00:00, source: CNN',\n",
       " 'snippet: Several Kentucky counties broke three-day rainfall records during recent storms. Widespread river flooding is ongoing across Kentucky this week, as a number of waterways reached major flood stage. The first several days of April have already well surpassed ..., title: Kentucky flooding: These maps, charts tell the tale of historic rainfall, broken records, link: https://www.courier-journal.com/story/news/local/2025/04/08/kentucky-flooding-rainfall-records-river-crest-totals/82971961007/, date: 2025-04-08T00:00:00+00:00, source: The Courier-Journal',\n",
       " 'snippet: Over 2.8 inches of rain have fallen in Columbus in the past 48 hours, according to the National Weather Service. Cincinnati has seen 3.26 inches., title: How much rainfall has Columbus had? How much more will we get?, link: https://www.msn.com/en-us/weather/topstories/how-much-rainfall-has-columbus-had-how-much-more-will-we-get/ar-AA1ClorV, date: 2025-04-05T10:02:49+00:00, source: The Columbus Dispatch',\n",
       " \"snippet: For residents who live along Ecorse Creek in Dearborn Heights, heavy rains can lead to major flooding. City leaders say they're making efforts to make sure that this doesn't happen again., title: Dearborn Heights residents see massive flooding after heavy rainfall, link: https://www.msn.com/en-us/news/us/dearborn-heights-residents-see-massive-flooding-after-heavy-rainfall/ar-AA1CfEdB, date: 2025-04-03T20:31:32+00:00, source: CBS News\",\n",
       " 'snippet: The National Weather Service has compiled estimated rainfall totals for Evansville and the Tri-State since Wednesday., title: Here are the estimated rainfall totals for Evansville and the Tri-State as of Saturday, link: https://www.msn.com/en-us/weather/topstories/here-are-the-estimated-rainfall-totals-for-evansville-and-the-tri-state-as-of-saturday/ar-AA1CmGGj, date: 2025-04-05T20:30:24+00:00, source: Evansville Courier & Press']"
      ]
     },
     "execution_count": 9,
     "metadata": {},
     "output_type": "execute_result"
    }
   ],
   "source": [
    "response = search_tool.run(\"Rainfall\")\n",
    "format_response(response)"
   ]
  },
  {
   "cell_type": "markdown",
   "metadata": {},
   "source": [
    "## Step # 06: Tools"
   ]
  },
  {
   "cell_type": "code",
   "execution_count": 10,
   "metadata": {},
   "outputs": [],
   "source": [
    "human_tools = load_tools([\"human\"])"
   ]
  },
  {
   "cell_type": "markdown",
   "metadata": {},
   "source": [
    "## Step # 07: Load GPT-3.5 Model"
   ]
  },
  {
   "cell_type": "code",
   "execution_count": 11,
   "metadata": {},
   "outputs": [],
   "source": [
    "llm = ChatOpenAI(\n",
    "    model = \"gpt-3.5-turbo\"\n",
    ")"
   ]
  },
  {
   "cell_type": "markdown",
   "metadata": {},
   "source": [
    "## Step # 08: Initialize Agents"
   ]
  },
  {
   "cell_type": "code",
   "execution_count": 12,
   "metadata": {},
   "outputs": [],
   "source": [
    "#Senior Environmental Customer Communicator\n",
    "customer_communicator = Agent (\n",
    "    role=\"Senior environmental and natural events communicator\",\n",
    "    goal=\"Understand what natural events the customer is asking about, such as earthquake, rainfall, weather patterns, or environmental changes, and provide clear, accurate, and relevanr information\",\n",
    "    backstory=\"\"\"You're a highly experienced specialist in communicating about natural events including earthquakes, rainfall, weather, and environmental conditions. \n",
    "    You help users by answering their questions and providing helpful explanations, facts and insights on these topics.\"\"\",\n",
    "    verbose=True, \n",
    "    allow_delegation=False,     #handles things directly without delegating\n",
    "    llm=llm,\n",
    "    max_iter=5,\n",
    "    memory=True,                #whether this agent remembers context/history\n",
    "    tools=human_tools,          #tools available to this agent(search tools, APIs etc)\n",
    "    )\n",
    "\n",
    "#Environmental Events Analyst\n",
    "analyst= Agent (\n",
    "    role=\"Environmental Events Analyst\",\n",
    "    goal=\"\"\"Create a short, clear summary of recent natural events and environmental news.\n",
    "    Specify the current trend - increasing, decreasing, or stable - for key factors like earthquake frequency, rainfall levels, temperature changes, and other natural \n",
    "    phenomena. For each requested event type, specify a risk level between 0 and 100, where 0 indicates no risk or impact, and 100 represents extreme danger or urgency\"\"\",\n",
    "    backstory=\"\"\"You're widely accepted as one of the most reliable analysts in the field of natural events and environmental science.  \n",
    "    You have tracked global environmental patterns for over a decade and your trend analysis is highly regarded for its accuracy.\n",
    "\n",
    "    You are also deeply knowledgeable about climate science, disaster management, and human-environment interactions.\n",
    "    You understand complex environmental systems and integrate multiple disciplines — such as meteorology, geology, and environmental psychology — when analyzing events.\n",
    "\n",
    "    You assess news and reports critically, taking into account their sources and reliability.\n",
    "    You always present concise and easy-to-understand summaries that explain complex environmental and natural event topics in simple, clear terms for the public and decision-makers.\"\"\",\n",
    "    verbose=True,\n",
    "    allow_delegation=False,\n",
    "    llm=llm,\n",
    "    max_iter=10,\n",
    "    memory=True,\n",
    "    tools=[search_tool],    # uses search tools or APIs for latest data\n",
    "    )\n",
    "\n",
    "#Environmental Newsletter Writer\n",
    "writer = Agent (\n",
    "    role=\"Environmental Newsletter Writer\",\n",
    "    goal=\"\"\"Write an insightful, compelling, and informative 3-paragraph-long newsletter based on the latest environmental events and natural phenomena report.\"\"\",\n",
    "    backstory=\"\"\"You're deeply familiar with natural events, environmental science, and climate-related topics. \n",
    "    You understand complex concepts like earthquake science, rainfall patterns, climate trends, and their real-world impacts — and have a gift for transforming this technical information into engaging, clear, and easy-to-read articles for a general audience.\n",
    "\n",
    "    You're a master of communication, using narratives and structure to keep readers engaged.\n",
    "    Your writing focuses on clarity, conciseness, and a pleasant flow that makes technical content approachable.\n",
    "\n",
    "    Some of your writing techniques include:\n",
    "\n",
    "    - Start with a 3-bullet executive summary highlighting the most important points\n",
    "    - Use bullet points and subheadings to make content skimmable and easy to follow\n",
    "    - Use real-world examples and analogies to explain complex environmental ideas\n",
    "    - Craft compelling introductions and conclusions to make your writing memorable and actionable\n",
    "\n",
    "    Your writing style turns even the driest scientific data into engaging and interesting newsletters for readers of all backgrounds. \"\"\",\n",
    "    verbose=True,\n",
    "    allow_delegation=True,    # can delegate tasks to other agents if needed\n",
    "    llm=llm,\n",
    "    max_iter=10,\n",
    "    memory=True,)\n"
   ]
  },
  {
   "cell_type": "markdown",
   "metadata": {
    "id": "TSgtIZKwCBEf"
   },
   "source": [
    "## Step # 09: Initialize Tasks for Agents"
   ]
  },
  {
   "cell_type": "code",
   "execution_count": 13,
   "metadata": {},
   "outputs": [],
   "source": [
    "#Task for Senior Environmental Customer Communicator Agent\n",
    "get_natural_event_topics = Task (\n",
    "    description=f\"\"\"Ask the user which natural events or environmental topics they're interested in (like earthquake, rainfall, temperature trends, storms, or other climate events).\"\"\",\n",
    "    expected_output=\"\"\"Create a list of the natural events or environmental topics that the user wants information about.\n",
    "    Example: \n",
    "    events = 'earthquake, rainfall, storm'\n",
    "    \"\"\",\n",
    "    agent=customer_communicator,\n",
    ")\n",
    "\n",
    "#Task for Environmental Events Analyst Agent\n",
    "get_event_news_and_data = Task(\n",
    "    description = f\"\"\"Take the list of natural events and always include 'earthquake' and 'rainfall' to it(if not requested)\n",
    "    Use the search tool to gather news, updates, and scientific data for each topic individually. \n",
    "    The current date is {datetime.now()}.\n",
    "    Summarize the information into a clear, helpful report.\"\"\",\n",
    "    expected_output=\"\"\"A summary of the current environmental situation and a one-sentence summary for\n",
    "    each requested natural event or topic. Include a risk or impact score between 0 and 100 (0 being no risk/impact, 100 being severe risk/impact). Use this format:\n",
    "    <EVENT>\n",
    "    <SUMMARY BASED ON NEWS AND DATA>\n",
    "    <CURRENT TREND OR PATTERN>\n",
    "    <RISK/IMPACT SCORE>\n",
    "    \"\"\",\n",
    "    agent=analyst,\n",
    "    context=[get_natural_event_topics],\n",
    ")\n",
    "\n",
    "#Task for Environmental Newsletter Writer Agent\n",
    "write_environment_newsletter = Task(\n",
    "    description = f\"\"\"\n",
    "    Use the environmental events report to create a daily newsletter that highlights the most important points.\n",
    "    Focus on the event summaries, current trends, and risk/impact scores. Discuss near-term and future considerations.\n",
    "    The newsletter should be accessible to a wide audience and rely on clear, factual, and evidence-based information.\"\"\",\n",
    "    expected_output = \"\"\"An eloquent 3-paragraph newsletter formatted as markdown in an easy-to-read manner. It should contain: \n",
    "    - 3-bullet executive summary \n",
    "    - Introduction — set the overall context and hook the reader's interest\n",
    "    - Main section — detailed analysis including news summaries and risk/impact scores\n",
    "    - Summary — key facts and a future prediction: increasing, descreasing, or stable trend               \n",
    "    \"\"\",\n",
    "    agent=writer,\n",
    "    context=[get_event_news_and_data],    \n",
    ")"
   ]
  },
  {
   "cell_type": "markdown",
   "metadata": {},
   "source": [
    "## Step # 10: Initialize Crew"
   ]
  },
  {
   "cell_type": "code",
   "execution_count": 14,
   "metadata": {},
   "outputs": [],
   "source": [
    "crew = Crew (\n",
    "    agents=[customer_communicator,analyst,writer],\n",
    "    tasks=[get_event_news_and_data,get_natural_event_topics, write_environment_newsletter],\n",
    "    verbose=2,                  #This controls how much output detail you get during execution: 0 = no output,1 = basic logs, 2 = detailed logs (which agents are doing what, task results, etc.) — good for debugging and learning.\n",
    "    process=Process.hierarchical,  #how to coordinate the tasks: hierarchical, which is often more organized for multi-step workflows.\n",
    "    full_output=True,\n",
    "    share_crew=False,\n",
    "    manager_llm=llm,               #LLM (Large Language Model) instance acting as the task manager for this crew, making decisions about task assignments and flow in hierarchical mode\n",
    "    max_iter=15,\n",
    ")"
   ]
  },
  {
   "cell_type": "markdown",
   "metadata": {},
   "source": [
    "## Step # 11: Display output"
   ]
  },
  {
   "cell_type": "code",
   "execution_count": null,
   "metadata": {},
   "outputs": [],
   "source": [
    "results = crew.kickoff()"
   ]
  },
  {
   "cell_type": "code",
   "execution_count": null,
   "metadata": {
    "colab": {
     "base_uri": "https://localhost:8080/"
    },
    "id": "ZD4SOu2kC_1V",
    "outputId": "7da1d14b-6033-4a4d-90f5-10242208abe8"
   },
   "outputs": [],
   "source": [
    "list(results.keys())"
   ]
  },
  {
   "cell_type": "code",
   "execution_count": null,
   "metadata": {
    "colab": {
     "base_uri": "https://localhost:8080/"
    },
    "id": "y6rvPD3NDD_P",
    "outputId": "0b537bdc-fb00-47b3-bb3d-cfba87d81d05"
   },
   "outputs": [],
   "source": [
    "len(results[\"tasks_outputs\"])"
   ]
  },
  {
   "cell_type": "code",
   "execution_count": null,
   "metadata": {
    "colab": {
     "base_uri": "https://localhost:8080/",
     "height": 331
    },
    "id": "Ofy4Jc4fDB-B",
    "outputId": "4c2cd901-683d-490a-b521-eaddcc283d91"
   },
   "outputs": [],
   "source": [
    "Markdown(results[\"tasks_outputs\"][1].exported_output)"
   ]
  },
  {
   "cell_type": "code",
   "execution_count": null,
   "metadata": {
    "colab": {
     "base_uri": "https://localhost:8080/",
     "height": 488
    },
    "id": "OoyaXLwABPEN",
    "outputId": "78bb6652-ead1-4a2e-d1fb-37af72cf22ae"
   },
   "outputs": [],
   "source": [
    "Markdown(results[\"final_output\"])"
   ]
  }
 ],
 "metadata": {
  "colab": {
   "provenance": []
  },
  "kernelspec": {
   "display_name": "venv",
   "language": "python",
   "name": "python3"
  },
  "language_info": {
   "codemirror_mode": {
    "name": "ipython",
    "version": 3
   },
   "file_extension": ".py",
   "mimetype": "text/x-python",
   "name": "python",
   "nbconvert_exporter": "python",
   "pygments_lexer": "ipython3",
   "version": "3.10.12"
  }
 },
 "nbformat": 4,
 "nbformat_minor": 0
}
