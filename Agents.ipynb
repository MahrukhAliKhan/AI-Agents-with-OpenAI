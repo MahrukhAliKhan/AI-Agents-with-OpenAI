{
 "cells": [
  {
   "cell_type": "markdown",
   "metadata": {},
   "source": [
    "## Step # 01: Install necessary libraries\n",
    "- Crewai[tools]: It is a framework for autonomous AI agents designed for Reasoning and Acting.\n",
    "The [tools] part installs additional built-in tools that can be used by AI agents (e.g., web search, calculations, file handling).\n",
    "- duckduckgo-search: A Python library for performing DuckDuckGo searches programmatically. Search for web pages, news, images, and videos.\n",
    "\n"
   ]
  },
  {
   "cell_type": "code",
   "execution_count": null,
   "metadata": {
    "colab": {
     "base_uri": "https://localhost:8080/"
    },
    "id": "uKW5vG1RxEOK",
    "outputId": "23813ade-d55f-42a5-ab64-77b4be25c2d3"
   },
   "outputs": [],
   "source": [
    "%pip install 'crewai[tools]'==0.28.8 \n",
    "%pip duckduckgo-search==5.3.0 "
   ]
  },
  {
   "cell_type": "markdown",
   "metadata": {},
   "source": [
    "## Step # 02: Import necessary libraries"
   ]
  },
  {
   "cell_type": "code",
   "execution_count": 2,
   "metadata": {},
   "outputs": [
    {
     "name": "stderr",
     "output_type": "stream",
     "text": [
      "/home/mahrukh/NLP/Agents/venv/lib/python3.10/site-packages/pydantic/_internal/_generate_schema.py:775: UserWarning: Mixing V1 models and V2 models (or constructs, like `TypeAdapter`) is not supported. Please upgrade `CrewAgentExecutor` to V2.\n",
      "  warn(\n"
     ]
    }
   ],
   "source": [
    "import json                                                  #for handling JSON data\n",
    "import os                                                    #for interacting with operating system(file paths, env-variables)\n",
    "import re                                                    #for working with regular expressions(text pattern matching)\n",
    "import requests                                              #for making HTTPS requests(sending or getting data from API's)\n",
    "from datetime import datetime                                #for date and time\n",
    "from crewai import Agent, Crew, Process, Task                #framework to create autonomous AI Agents\n",
    "from IPython.display import Markdown                         #display Markdown-formatted text inside Jupyter Notebook output cells\n",
    "from langchain.agents import load_tools                      #LangChain is a framework used to build applications powered by large language models (LLMs)\n",
    "from langchain.tools import tool\n",
    "from langchain_community.tools import DuckDuckGoSearchResults\n",
    "from langchain_openai import ChatOpenAI\n"
   ]
  },
  {
   "cell_type": "code",
   "execution_count": 3,
   "metadata": {},
   "outputs": [],
   "source": [
    "#Function: to process a string containing multiple comma-separated entries enclosed in square brackets and return a cleaned list of those entries. \n",
    "def format_response(response: str) -> str:\n",
    "    entries = re.split(r\", (?=\\[)\", response) \n",
    "    return [entry.strip(\"[]\") for entry in entries] "
   ]
  },
  {
   "cell_type": "markdown",
   "metadata": {},
   "source": [
    "## Step # 03: Set OPEN_API_KEY"
   ]
  },
  {
   "cell_type": "code",
   "execution_count": null,
   "metadata": {},
   "outputs": [],
   "source": [
    "os.environ[\"OPENAI_API_KEY\"] = \"<YOUR_OPENAI_API_KEY>\""
   ]
  },
  {
   "cell_type": "markdown",
   "metadata": {},
   "source": [
    "## Step # 04: Initializes a DuckDuckGo Search tool\n",
    "The tool will fetch news-related search results with a specified number of results."
   ]
  },
  {
   "cell_type": "code",
   "execution_count": 5,
   "metadata": {},
   "outputs": [],
   "source": [
    "search_tool = DuckDuckGoSearchResults(backend=\"news\", num_results=13)"
   ]
  },
  {
   "cell_type": "markdown",
   "metadata": {},
   "source": [
    "## Step # 05: Data Source"
   ]
  },
  {
   "cell_type": "code",
   "execution_count": 6,
   "metadata": {},
   "outputs": [
    {
     "data": {
      "text/plain": [
       "['snippet: Ndlula, Umngani and Khosi — scramble to encircle and shield the two 7-year-old calves, Zuli and Mkhaya, from any possible threats., title: Video shows elephants at San Diego Zoo Safari Park racing to protect their young during earthquake, link: https://www.msn.com/en-us/public-safety-and-emergencies/health-and-safety-alerts/elephants-at-san-diego-zoo-huddle-to-protect-calves-during-earthquake/ar-AA1CVa1c, date: 2025-04-15T21:09:00+00:00, source: The Associated Press',\n",
       " \"snippet: A preliminary 6.0-magnitude earthquake struck near San Diego, according to the U.S. Geological Survey. The quake's epicenter was recorded 1.86 northeast of San Diego County, in Julian. It is not yet known if there are reports of injuries or damage., title: 5.2-magnitude earthquake strikes San Diego area, jolting Southern California near San Andreas system fault, link: https://www.cbsnews.com/losangeles/news/earthquake-strikes-near-san-diego/, date: 2025-04-15T07:40:00+00:00, source: CBS News\",\n",
       " 'snippet: A magnitude 5.2 earthquake was detected, with the epicenter identified near the mountain town of Julian, east of San Diego, according to the U.S. Geological Survey (USGS). The quake was felt as far north as Los Angeles., title: Strong Earthquake Rattles San Diego, link: https://www.msn.com/en-us/news/world/strong-earthquake-rattles-san-diego/ar-AA1CUiWG, date: 2025-04-14T17:21:10+00:00, source: Newsweek',\n",
       " 'snippet: A 5.2 magnitude earthquake shook Southern California on Monday, according to the U.S. Geological Survey. The quake was centered in San Diego County but was felt as far north as Los Angeles. No injuries or damage have been reported,, title: 5.2 magnitude earthquake shakes Southern California, link: https://www.msn.com/en-us/news/other/news-notification/ar-AA1CUiyx, date: 2025-04-14T19:20:57+00:00, source: ABC News',\n",
       " 'snippet: Heart-melting video shows African elephants at the San Diego Zoo instinctively forming a protective circle after the earthquake hit Southern California., title: Watch as elephants form a protective circle in San Diego after 5.2-magnitude earthquake, link: https://www.msn.com/en-us/news/us/watch-as-elephants-form-a-protective-circle-in-san-diego-after-52-magnitude-earthquake/ar-AA1CVbf3, date: 2025-04-15T00:22:19+00:00, source: USA TODAY',\n",
       " 'snippet: The earthquake had a preliminary magnitude of 5.2 and was near the mountain town of Julian, east of San Diego, according to the U.S. Geological Survey. Multiple aftershocks in the 2 and 3 magnitude range have been reported., title: 5.2 magnitude earthquake near San Diego rattles parts of LA and Orange counties, link: https://abc7.com/post/51-magnitude-earthquake-strikes-san-diego-usgs-says/16171163/, date: 2025-04-15T07:58:00+00:00, source: ABC7 KABC',\n",
       " 'snippet: The quake centered near San Diego, but shockwaves were felt as far as Los Angeles more than 100 miles away, according to the US Geological Survey., title: Earthquake hits San Diego at 5.2 magnitude and shakes Southern California with effects felt up to LA, link: https://www.msn.com/en-us/weather/topstories/earthquake-hits-san-diego-at-52-magnitude-and-shakes-southern-california-with-effects-felt-up-to-la/ar-AA1CUbZp, date: 2025-04-14T19:20:00+00:00, source: New York Post',\n",
       " 'snippet: A 5.2 earthquake rattled San Diego, California, and the surrounding area on Monday afternoon, according to the US Geological Survey. The quake struck at 10:08 local time (18:00 GMT) with an epicentre in Julian, California. The resort town is located in the Cuyamaca Mountains about an hour north-east of San Diego., title: 5.2-magnitude earthquake hits California near San Diego, link: https://www.bbc.com/news/articles/cvg9ndjvjl9o.amp, date: 2025-04-14T22:43:00+00:00, source: BBC',\n",
       " \"snippet: The zoo reported the herd returned to normal behavior a few minutes after the earthquake, though they continued to remain close., title: Watch as San Diego Zoo Elephants Form 'Alert Circle' During Earthquake, link: https://www.msn.com/en-us/news/us/watch-as-san-diego-zoo-elephants-form-alert-circle-during-earthquake/ar-AA1CUNaV, date: 2025-04-15T01:36:00+00:00, source: Newsweek\",\n",
       " \"snippet: Elephants at San Diego Zoo Safari Park formed an alert circle to protect their young as a magnitude 5.2 earthquake hit the region Monday morning., title: Shocked by earthquake, zoo elephants form 'alert circle' to protect their young at San Diego Zoo, link: https://www.latimes.com/california/story/2025-04-14/elephants-form-alert-circle-to-protect-their-young-as-quake-shakes-san-diego-zoo-safari-park, date: 2025-04-14T08:50:00+00:00, source: Los Angeles Times\",\n",
       " 'snippet: A strong earthquake on Monday morning rattled residents across Southern California, and aftershocks continued to be felt near San Diego., title: Magnitude 5.2 earthquake jolts Southern California as aftershocks rattle San Diego, link: https://www.aol.com/news/magnitude-5-2-earthquake-jolts-172534303.html, date: 2025-04-15T09:58:00+00:00, source: AOL',\n",
       " \"snippet: Monday's 5.2 magnitude temblor marked another success for California's early earthquake warning system, with users in some areas saying they got notifications on their phone before they felt shaking., title: 'That was awesome!' California's earthquake early warning system let many know about today's temblor, link: https://www.msn.com/en-us/money/other/that-was-awesome-californias-earthquake-early-warning-system-let-many-know-about-todays-temblor/ar-AA1CV02J, date: 2025-04-15T07:09:00+00:00, source: LA Times\",\n",
       " 'snippet: A 5.2-magnitude earthquake rumbled through Southern California Monday morning, causing minor damage in areas outside San Diego and triggering ShakeAlert warnings to countless cell phones., title: 5.2-magnitude SoCal earthquake triggers ShakeAlert warnings to countless cell phones, link: https://www.msn.com/en-us/weather/topstories/52-magnitude-socal-earthquake-triggers-shakealert-warnings-to-countless-cell-phones/ar-AA1CVT0a, date: 2025-04-15T05:58:04+00:00, source: ABC7 KABC']"
      ]
     },
     "execution_count": 6,
     "metadata": {},
     "output_type": "execute_result"
    }
   ],
   "source": [
    "response = search_tool.run(\"Earthquake\")\n",
    "format_response(response)"
   ]
  },
  {
   "cell_type": "code",
   "execution_count": 9,
   "metadata": {},
   "outputs": [
    {
     "data": {
      "text/plain": [
       "[\"snippet: It may feel like it rained a lot last year - and it did - but not enough to satisfy L.A. County's critical shortage of rainfall, officials say. A news release issued Tuesday by Water for L.A. County indicates that the county captured nearly 12 billion gallons of stormwater over the past several months., title: L.A. County remains 'critically short' on rainfall despite recent storms, link: https://www.msn.com/en-us/weather/topstories/l-a-county-remains-critically-short-on-rainfall-despite-recent-storms/vi-AA1D2H2N, date: 2025-04-16T14:27:02+00:00, source: KTLA-TV Los Angeles\",\n",
       " \"snippet: MEMPHIS, Tenn. - Life-threatening flooding and dangerous severe weather pummeled large swaths of the nation's heartland again Saturday for the fourth day in a row, promising to leave some areas with heavy rainfall not seen in generations and triggering ..., title: Catastrophic rainfall triggers Flash Flood Emergencies, evacuations as relentless storms drag into fourth day, link: https://www.aol.com/news/catastrophic-rainfall-triggers-flash-flood-094052389.html, date: 2025-04-05T10:43:00+00:00, source: AOL\",\n",
       " \"snippet: Extreme weather is dangerous weather, and that's particularly true for the heavy rainfall events that experts say are becoming more frequent with climate change., title: When heavy rainfall threatens flooding, you can protect yourself. Here's how, link: https://www.msn.com/en-us/news/us/when-heavy-rainfall-threatens-flooding-you-can-protect-yourself-heres-how/ar-AA1Cfgm7, date: 2025-04-03T17:59:33+00:00, source: Associated Press News\",\n",
       " 'snippet: For more detailed rainfall totals for each county, residents can visit kymesonet.org by hitting the \"Select Map\" button and selecting precipitation. More heavy rainfall is expected over the weekend which means flooding will become more widespread., title: See rainfall totals in Kentucky so far this week. More rain is on the way with flooding likely, link: https://www.msn.com/en-us/weather/topstories/see-rainfall-totals-in-kentucky-so-far-this-week-more-rain-is-on-the-way-with-flooding-likely/ar-AA1CiICr, date: 2025-04-04T14:19:00+00:00, source: The Courier Journal',\n",
       " 'snippet: Memphis and areas around the Mid-South saw record rainfall Saturday, leading to flooding and rising river levels., title: Memphis area hit with record rainfall: See how much rain fell across the Mid-South, link: https://www.msn.com/en-us/weather/topstories/memphis-area-hit-with-record-rainfall-see-how-much-rain-fell-across-the-mid-south/ar-AA1CoDZv, date: 2025-04-06T16:27:40+00:00, source: The Commercial Appeal',\n",
       " 'snippet: Scatter showers are expected to persist throughout Sunday, although flooding and high water will linger even after the rain stops, forecasters say., title: Downpours bring flooding, high water in Greater Cincinnati; see local rainfall totals, link: https://www.statesman.com/story/weather/2025/04/06/cincinnati-rainfall-see-local-totals-as-region-experiences-flooding/82963063007/, date: 2025-04-06T14:44:00+00:00, source: Austin American-Statesman',\n",
       " 'snippet: Another cold front sweeping across Texas at the tail end of this week should keep temperatures low. However, it also means a pretty gloomy weekend for much of the Lone Star State, including the risk for severe storms and heavy rainfall for some regions., title: Timeline: Texas cold front brings hail, heavy rainfall risk to major cities, link: https://www.msn.com/en-us/weather/topstories/timeline-texas-cold-front-brings-hail-heavy-rainfall-risk-to-major-cities/ar-AA1D1l27, date: 2025-04-16T09:00:00+00:00, source: MySA',\n",
       " 'snippet: The National Weather Service says several inches of rain have already occurred over the past couple of days and more rainfall is on the way., title: How much rain did we get? Check local rainfall amounts in Greater Cincinnati and NKY, link: https://www.msn.com/en-us/weather/topstories/how-much-rain-did-we-get-check-local-rainfall-amounts-in-greater-cincinnati-and-nky/ar-AA1CijsZ, date: 2025-04-04T12:43:07+00:00, source: The Cincinnati Enquirer',\n",
       " 'snippet: CNN, WHBQ, KMBC, KSPR, KYTV, KFVS, TOSHA QUALLS, COLBY GEORGE, TMX, SAMM MUSICK, MIKE HOCKETT, X, TENNESSEE HIGHWAY PATROL, RACHELJANEMARIE , X, MITCHELL DESPOT, MATT ZIEGLER, SHROUDEDGUARDIAN, REDDIT,, title: Extreme rainfall brings potentially deadly flooding to parts of central US already slammed by storms, link: https://www.msn.com/en-us/weather/topstories/extreme-rainfall-brings-potentially-deadly-flooding-to-parts-of-central-us-already-slammed-by-storms/ar-AA1Ch9JY, date: 2025-04-04T09:02:25+00:00, source: CNN',\n",
       " 'snippet: Several Kentucky counties broke three-day rainfall records during recent storms. Widespread river flooding is ongoing across Kentucky this week, as a number of waterways reached major flood stage. The first several days of April have already well surpassed ..., title: Kentucky flooding: These maps, charts tell the tale of historic rainfall, broken records, link: https://www.courier-journal.com/story/news/local/2025/04/08/kentucky-flooding-rainfall-records-river-crest-totals/82971961007/, date: 2025-04-08T00:00:00+00:00, source: The Courier-Journal',\n",
       " 'snippet: Over 2.8 inches of rain have fallen in Columbus in the past 48 hours, according to the National Weather Service. Cincinnati has seen 3.26 inches., title: How much rainfall has Columbus had? How much more will we get?, link: https://www.msn.com/en-us/weather/topstories/how-much-rainfall-has-columbus-had-how-much-more-will-we-get/ar-AA1ClorV, date: 2025-04-05T10:02:49+00:00, source: The Columbus Dispatch',\n",
       " \"snippet: For residents who live along Ecorse Creek in Dearborn Heights, heavy rains can lead to major flooding. City leaders say they're making efforts to make sure that this doesn't happen again., title: Dearborn Heights residents see massive flooding after heavy rainfall, link: https://www.msn.com/en-us/news/us/dearborn-heights-residents-see-massive-flooding-after-heavy-rainfall/ar-AA1CfEdB, date: 2025-04-03T20:31:32+00:00, source: CBS News\",\n",
       " 'snippet: The National Weather Service has compiled estimated rainfall totals for Evansville and the Tri-State since Wednesday., title: Here are the estimated rainfall totals for Evansville and the Tri-State as of Saturday, link: https://www.msn.com/en-us/weather/topstories/here-are-the-estimated-rainfall-totals-for-evansville-and-the-tri-state-as-of-saturday/ar-AA1CmGGj, date: 2025-04-05T20:30:24+00:00, source: Evansville Courier & Press']"
      ]
     },
     "execution_count": 9,
     "metadata": {},
     "output_type": "execute_result"
    }
   ],
   "source": [
    "response = search_tool.run(\"Rainfall\")\n",
    "format_response(response)"
   ]
  },
  {
   "cell_type": "markdown",
   "metadata": {},
   "source": [
    "## Step # 06: Tools"
   ]
  },
  {
   "cell_type": "code",
   "execution_count": 10,
   "metadata": {},
   "outputs": [],
   "source": [
    "human_tools = load_tools([\"human\"])"
   ]
  },
  {
   "cell_type": "markdown",
   "metadata": {},
   "source": [
    "## Step # 07: Load GPT-3.5 Model"
   ]
  },
  {
   "cell_type": "code",
   "execution_count": 11,
   "metadata": {},
   "outputs": [],
   "source": [
    "llm = ChatOpenAI(\n",
    "    model = \"gpt-3.5-turbo\"\n",
    ")"
   ]
  },
  {
   "cell_type": "markdown",
   "metadata": {},
   "source": [
    "## Step # 08: Initialize Agents"
   ]
  },
  {
   "cell_type": "code",
   "execution_count": 12,
   "metadata": {},
   "outputs": [],
   "source": [
    "#Senior Environmental Customer Communicator\n",
    "customer_communicator = Agent (\n",
    "    role=\"Senior environmental and natural events communicator\",\n",
    "    goal=\"Understand what natural events the customer is asking about, such as earthquake, rainfall, weather patterns, or environmental changes, and provide clear, accurate, and relevanr information\",\n",
    "    backstory=\"\"\"You're a highly experienced specialist in communicating about natural events including earthquakes, rainfall, weather, and environmental conditions. \n",
    "    You help users by answering their questions and providing helpful explanations, facts and insights on these topics.\"\"\",\n",
    "    verbose=True, \n",
    "    allow_delegation=False,     #handles things directly without delegating\n",
    "    llm=llm,\n",
    "    max_iter=5,\n",
    "    memory=True,                #whether this agent remembers context/history\n",
    "    tools=human_tools,          #tools available to this agent(search tools, APIs etc)\n",
    "    )\n",
    "\n",
    "#Environmental Events Analyst\n",
    "analyst= Agent (\n",
    "    role=\"Environmental Events Analyst\",\n",
    "    goal=\"\"\"Create a short, clear summary of recent natural events and environmental news.\n",
    "    Specify the current trend - increasing, decreasing, or stable - for key factors like earthquake frequency, rainfall levels, temperature changes, and other natural \n",
    "    phenomena. For each requested event type, specify a risk level between 0 and 100, where 0 indicates no risk or impact, and 100 represents extreme danger or urgency\"\"\",\n",
    "    backstory=\"\"\"You're widely accepted as one of the most reliable analysts in the field of natural events and environmental science.  \n",
    "    You have tracked global environmental patterns for over a decade and your trend analysis is highly regarded for its accuracy.\n",
    "\n",
    "    You are also deeply knowledgeable about climate science, disaster management, and human-environment interactions.\n",
    "    You understand complex environmental systems and integrate multiple disciplines — such as meteorology, geology, and environmental psychology — when analyzing events.\n",
    "\n",
    "    You assess news and reports critically, taking into account their sources and reliability.\n",
    "    You always present concise and easy-to-understand summaries that explain complex environmental and natural event topics in simple, clear terms for the public and decision-makers.\"\"\",\n",
    "    verbose=True,\n",
    "    allow_delegation=False,\n",
    "    llm=llm,\n",
    "    max_iter=10,\n",
    "    memory=True,\n",
    "    tools=[search_tool],    # uses search tools or APIs for latest data\n",
    "    )\n",
    "\n",
    "#Environmental Newsletter Writer\n",
    "writer = Agent (\n",
    "    role=\"Environmental Newsletter Writer\",\n",
    "    goal=\"\"\"Write an insightful, compelling, and informative 3-paragraph-long newsletter based on the latest environmental events and natural phenomena report.\"\"\",\n",
    "    backstory=\"\"\"You're deeply familiar with natural events, environmental science, and climate-related topics. \n",
    "    You understand complex concepts like earthquake science, rainfall patterns, climate trends, and their real-world impacts — and have a gift for transforming this technical information into engaging, clear, and easy-to-read articles for a general audience.\n",
    "\n",
    "    You're a master of communication, using narratives and structure to keep readers engaged.\n",
    "    Your writing focuses on clarity, conciseness, and a pleasant flow that makes technical content approachable.\n",
    "\n",
    "    Some of your writing techniques include:\n",
    "\n",
    "    - Start with a 3-bullet executive summary highlighting the most important points\n",
    "    - Use bullet points and subheadings to make content skimmable and easy to follow\n",
    "    - Use real-world examples and analogies to explain complex environmental ideas\n",
    "    - Craft compelling introductions and conclusions to make your writing memorable and actionable\n",
    "\n",
    "    Your writing style turns even the driest scientific data into engaging and interesting newsletters for readers of all backgrounds. \"\"\",\n",
    "    verbose=True,\n",
    "    allow_delegation=True,    # can delegate tasks to other agents if needed\n",
    "    llm=llm,\n",
    "    max_iter=10,\n",
    "    memory=True,)\n"
   ]
  },
  {
   "cell_type": "markdown",
   "metadata": {
    "id": "TSgtIZKwCBEf"
   },
   "source": [
    "## Step # 09: Initialize Tasks for Agents"
   ]
  },
  {
   "cell_type": "code",
   "execution_count": 13,
   "metadata": {},
   "outputs": [],
   "source": [
    "#Task for Senior Environmental Customer Communicator Agent\n",
    "get_natural_event_topics = Task (\n",
    "    description=f\"\"\"Ask the user which natural events or environmental topics they're interested in (like earthquake, rainfall, temperature trends, storms, or other climate events).\"\"\",\n",
    "    expected_output=\"\"\"Create a list of the natural events or environmental topics that the user wants information about.\n",
    "    Example: \n",
    "    events = 'earthquake, rainfall, storm'\n",
    "    \"\"\",\n",
    "    agent=customer_communicator,\n",
    ")\n",
    "\n",
    "#Task for Environmental Events Analyst Agent\n",
    "get_event_news_and_data = Task(\n",
    "    description = f\"\"\"Take the list of natural events and always include 'earthquake' and 'rainfall' to it(if not requested)\n",
    "    Use the search tool to gather news, updates, and scientific data for each topic individually. \n",
    "    The current date is {datetime.now()}.\n",
    "    Summarize the information into a clear, helpful report.\"\"\",\n",
    "    expected_output=\"\"\"A summary of the current environmental situation and a one-sentence summary for\n",
    "    each requested natural event or topic. Include a risk or impact score between 0 and 100 (0 being no risk/impact, 100 being severe risk/impact). Use this format:\n",
    "    <EVENT>\n",
    "    <SUMMARY BASED ON NEWS AND DATA>\n",
    "    <CURRENT TREND OR PATTERN>\n",
    "    <RISK/IMPACT SCORE>\n",
    "    \"\"\",\n",
    "    agent=analyst,\n",
    "    context=[get_natural_event_topics],\n",
    ")\n",
    "\n",
    "#Task for Environmental Newsletter Writer Agent\n",
    "write_environment_newsletter = Task(\n",
    "    description = f\"\"\"\n",
    "    Use the environmental events report to create a daily newsletter that highlights the most important points.\n",
    "    Focus on the event summaries, current trends, and risk/impact scores. Discuss near-term and future considerations.\n",
    "    The newsletter should be accessible to a wide audience and rely on clear, factual, and evidence-based information.\"\"\",\n",
    "    expected_output = \"\"\"An eloquent 3-paragraph newsletter formatted as markdown in an easy-to-read manner. It should contain: \n",
    "    - 3-bullet executive summary \n",
    "    - Introduction — set the overall context and hook the reader's interest\n",
    "    - Main section — detailed analysis including news summaries and risk/impact scores\n",
    "    - Summary — key facts and a future prediction: increasing, descreasing, or stable trend               \n",
    "    \"\"\",\n",
    "    agent=writer,\n",
    "    context=[get_event_news_and_data],    \n",
    ")"
   ]
  },
  {
   "cell_type": "markdown",
   "metadata": {},
   "source": [
    "## Step # 10: Initialize Crew"
   ]
  },
  {
   "cell_type": "code",
   "execution_count": 14,
   "metadata": {},
   "outputs": [],
   "source": [
    "crew = Crew (\n",
    "    agents=[customer_communicator,analyst,writer],\n",
    "    tasks=[get_event_news_and_data,get_natural_event_topics, write_environment_newsletter],\n",
    "    verbose=2,                  #This controls how much output detail you get during execution: 0 = no output,1 = basic logs, 2 = detailed logs (which agents are doing what, task results, etc.) — good for debugging and learning.\n",
    "    process=Process.hierarchical,  #how to coordinate the tasks: hierarchical, which is often more organized for multi-step workflows.\n",
    "    full_output=True,\n",
    "    share_crew=False,\n",
    "    manager_llm=llm,               #LLM (Large Language Model) instance acting as the task manager for this crew, making decisions about task assignments and flow in hierarchical mode\n",
    "    max_iter=15,\n",
    ")"
   ]
  },
  {
   "cell_type": "markdown",
   "metadata": {},
   "source": [
    "## Step # 11: Display output"
   ]
  },
  {
   "cell_type": "code",
   "execution_count": null,
   "metadata": {},
   "outputs": [],
   "source": [
    "results = crew.kickoff()"
   ]
  },
  {
   "cell_type": "code",
   "execution_count": null,
   "metadata": {
    "colab": {
     "base_uri": "https://localhost:8080/"
    },
    "id": "ZD4SOu2kC_1V",
    "outputId": "7da1d14b-6033-4a4d-90f5-10242208abe8"
   },
   "outputs": [],
   "source": [
    "list(results.keys())"
   ]
  },
  {
   "cell_type": "code",
   "execution_count": null,
   "metadata": {
    "colab": {
     "base_uri": "https://localhost:8080/"
    },
    "id": "y6rvPD3NDD_P",
    "outputId": "0b537bdc-fb00-47b3-bb3d-cfba87d81d05"
   },
   "outputs": [],
   "source": [
    "len(results[\"tasks_outputs\"])"
   ]
  },
  {
   "cell_type": "code",
   "execution_count": null,
   "metadata": {
    "colab": {
     "base_uri": "https://localhost:8080/",
     "height": 331
    },
    "id": "Ofy4Jc4fDB-B",
    "outputId": "4c2cd901-683d-490a-b521-eaddcc283d91"
   },
   "outputs": [],
   "source": [
    "Markdown(results[\"tasks_outputs\"][1].exported_output)"
   ]
  },
  {
   "cell_type": "code",
   "execution_count": null,
   "metadata": {
    "colab": {
     "base_uri": "https://localhost:8080/",
     "height": 488
    },
    "id": "OoyaXLwABPEN",
    "outputId": "78bb6652-ead1-4a2e-d1fb-37af72cf22ae"
   },
   "outputs": [],
   "source": [
    "Markdown(results[\"final_output\"])"
   ]
  }
 ],
 "metadata": {
  "colab": {
   "provenance": []
  },
  "kernelspec": {
   "display_name": "venv",
   "language": "python",
   "name": "python3"
  },
  "language_info": {
   "codemirror_mode": {
    "name": "ipython",
    "version": 3
   },
   "file_extension": ".py",
   "mimetype": "text/x-python",
   "name": "python",
   "nbconvert_exporter": "python",
   "pygments_lexer": "ipython3",
   "version": "3.10.12"
  }
 },
 "nbformat": 4,
 "nbformat_minor": 0
}
